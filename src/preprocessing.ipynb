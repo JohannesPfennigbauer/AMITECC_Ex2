{
 "cells": [
  {
   "cell_type": "markdown",
   "metadata": {},
   "source": [
    "### 0. Install necessary packages"
   ]
  },
  {
   "cell_type": "code",
   "execution_count": 1,
   "metadata": {
    "ExecuteTime": {
     "end_time": "2025-01-02T12:33:35.748793Z",
     "start_time": "2025-01-02T12:33:34.892982Z"
    }
   },
   "outputs": [],
   "source": [
    "import os\n",
    "import numpy as np\n",
    "import pandas as pd\n",
    "import matplotlib.pyplot as plt\n",
    "from sklearn.preprocessing import StandardScaler"
   ]
  },
  {
   "cell_type": "markdown",
   "metadata": {},
   "source": [
    "### 1. Load 100 random location files from the folder"
   ]
  },
  {
   "cell_type": "code",
   "execution_count": 2,
   "metadata": {
    "ExecuteTime": {
     "end_time": "2025-01-02T12:33:39.518649Z",
     "start_time": "2025-01-02T12:33:35.757247Z"
    }
   },
   "outputs": [
    {
     "data": {
      "text/html": [
       "<div>\n",
       "<style scoped>\n",
       "    .dataframe tbody tr th:only-of-type {\n",
       "        vertical-align: middle;\n",
       "    }\n",
       "\n",
       "    .dataframe tbody tr th {\n",
       "        vertical-align: top;\n",
       "    }\n",
       "\n",
       "    .dataframe thead th {\n",
       "        text-align: right;\n",
       "    }\n",
       "</style>\n",
       "<table border=\"1\" class=\"dataframe\">\n",
       "  <thead>\n",
       "    <tr style=\"text-align: right;\">\n",
       "      <th></th>\n",
       "      <th></th>\n",
       "      <th></th>\n",
       "      <th>MM</th>\n",
       "      <th>DD</th>\n",
       "      <th>2m_temp_max</th>\n",
       "      <th>2m_temp_mean</th>\n",
       "      <th>2m_temp_min</th>\n",
       "      <th>2m_dp_temp_max</th>\n",
       "      <th>2m_dp_temp_mean</th>\n",
       "      <th>2m_dp_temp_min</th>\n",
       "      <th>10m_wind_u</th>\n",
       "      <th>10m_wind_v</th>\n",
       "      <th>...</th>\n",
       "      <th>swe</th>\n",
       "      <th>surf_net_solar_rad_max</th>\n",
       "      <th>surf_net_solar_rad_mean</th>\n",
       "      <th>surf_net_therm_rad_max</th>\n",
       "      <th>surf_net_therm_rad_mean</th>\n",
       "      <th>surf_press</th>\n",
       "      <th>total_et</th>\n",
       "      <th>prec</th>\n",
       "      <th>volsw_123</th>\n",
       "      <th>volsw_4</th>\n",
       "    </tr>\n",
       "    <tr>\n",
       "      <th>location</th>\n",
       "      <th>YYYY</th>\n",
       "      <th>DOY</th>\n",
       "      <th></th>\n",
       "      <th></th>\n",
       "      <th></th>\n",
       "      <th></th>\n",
       "      <th></th>\n",
       "      <th></th>\n",
       "      <th></th>\n",
       "      <th></th>\n",
       "      <th></th>\n",
       "      <th></th>\n",
       "      <th></th>\n",
       "      <th></th>\n",
       "      <th></th>\n",
       "      <th></th>\n",
       "      <th></th>\n",
       "      <th></th>\n",
       "      <th></th>\n",
       "      <th></th>\n",
       "      <th></th>\n",
       "      <th></th>\n",
       "      <th></th>\n",
       "    </tr>\n",
       "  </thead>\n",
       "  <tbody>\n",
       "    <tr>\n",
       "      <th rowspan=\"5\" valign=\"top\">ID_513</th>\n",
       "      <th rowspan=\"5\" valign=\"top\">1981</th>\n",
       "      <th>1</th>\n",
       "      <td>1</td>\n",
       "      <td>1</td>\n",
       "      <td>0.1</td>\n",
       "      <td>-5.1</td>\n",
       "      <td>-8.8</td>\n",
       "      <td>-4.6</td>\n",
       "      <td>-8.3</td>\n",
       "      <td>-11.2</td>\n",
       "      <td>1.6</td>\n",
       "      <td>0.1</td>\n",
       "      <td>...</td>\n",
       "      <td>92.38</td>\n",
       "      <td>145</td>\n",
       "      <td>30</td>\n",
       "      <td>78</td>\n",
       "      <td>43</td>\n",
       "      <td>89817.0</td>\n",
       "      <td>0.13</td>\n",
       "      <td>1.41</td>\n",
       "      <td>0.35</td>\n",
       "      <td>0.4</td>\n",
       "    </tr>\n",
       "    <tr>\n",
       "      <th>2</th>\n",
       "      <td>1</td>\n",
       "      <td>2</td>\n",
       "      <td>-2.4</td>\n",
       "      <td>-7.3</td>\n",
       "      <td>-13.1</td>\n",
       "      <td>-6.8</td>\n",
       "      <td>-10.3</td>\n",
       "      <td>-15.1</td>\n",
       "      <td>1.5</td>\n",
       "      <td>0.4</td>\n",
       "      <td>...</td>\n",
       "      <td>93.93</td>\n",
       "      <td>175</td>\n",
       "      <td>37</td>\n",
       "      <td>68</td>\n",
       "      <td>51</td>\n",
       "      <td>89912.0</td>\n",
       "      <td>0.14</td>\n",
       "      <td>0.79</td>\n",
       "      <td>0.35</td>\n",
       "      <td>0.4</td>\n",
       "    </tr>\n",
       "    <tr>\n",
       "      <th>3</th>\n",
       "      <td>1</td>\n",
       "      <td>3</td>\n",
       "      <td>0.2</td>\n",
       "      <td>-3.5</td>\n",
       "      <td>-6.6</td>\n",
       "      <td>-3.1</td>\n",
       "      <td>-5.7</td>\n",
       "      <td>-9.2</td>\n",
       "      <td>2.2</td>\n",
       "      <td>1.0</td>\n",
       "      <td>...</td>\n",
       "      <td>94.89</td>\n",
       "      <td>196</td>\n",
       "      <td>38</td>\n",
       "      <td>78</td>\n",
       "      <td>45</td>\n",
       "      <td>88913.0</td>\n",
       "      <td>0.18</td>\n",
       "      <td>1.27</td>\n",
       "      <td>0.35</td>\n",
       "      <td>0.4</td>\n",
       "    </tr>\n",
       "    <tr>\n",
       "      <th>4</th>\n",
       "      <td>1</td>\n",
       "      <td>4</td>\n",
       "      <td>-0.2</td>\n",
       "      <td>-3.7</td>\n",
       "      <td>-7.1</td>\n",
       "      <td>-3.0</td>\n",
       "      <td>-5.3</td>\n",
       "      <td>-8.3</td>\n",
       "      <td>1.3</td>\n",
       "      <td>0.2</td>\n",
       "      <td>...</td>\n",
       "      <td>96.16</td>\n",
       "      <td>163</td>\n",
       "      <td>30</td>\n",
       "      <td>70</td>\n",
       "      <td>48</td>\n",
       "      <td>88436.0</td>\n",
       "      <td>0.12</td>\n",
       "      <td>2.50</td>\n",
       "      <td>0.35</td>\n",
       "      <td>0.4</td>\n",
       "    </tr>\n",
       "    <tr>\n",
       "      <th>5</th>\n",
       "      <td>1</td>\n",
       "      <td>5</td>\n",
       "      <td>-3.4</td>\n",
       "      <td>-6.8</td>\n",
       "      <td>-11.2</td>\n",
       "      <td>-9.5</td>\n",
       "      <td>-12.1</td>\n",
       "      <td>-14.6</td>\n",
       "      <td>2.2</td>\n",
       "      <td>-1.2</td>\n",
       "      <td>...</td>\n",
       "      <td>98.10</td>\n",
       "      <td>176</td>\n",
       "      <td>38</td>\n",
       "      <td>88</td>\n",
       "      <td>66</td>\n",
       "      <td>88819.0</td>\n",
       "      <td>0.63</td>\n",
       "      <td>0.81</td>\n",
       "      <td>0.35</td>\n",
       "      <td>0.4</td>\n",
       "    </tr>\n",
       "  </tbody>\n",
       "</table>\n",
       "<p>5 rows × 23 columns</p>\n",
       "</div>"
      ],
      "text/plain": [
       "                   MM  DD  2m_temp_max  2m_temp_mean  2m_temp_min  \\\n",
       "location YYYY DOY                                                   \n",
       "ID_513   1981 1     1   1          0.1          -5.1         -8.8   \n",
       "              2     1   2         -2.4          -7.3        -13.1   \n",
       "              3     1   3          0.2          -3.5         -6.6   \n",
       "              4     1   4         -0.2          -3.7         -7.1   \n",
       "              5     1   5         -3.4          -6.8        -11.2   \n",
       "\n",
       "                   2m_dp_temp_max  2m_dp_temp_mean  2m_dp_temp_min  \\\n",
       "location YYYY DOY                                                    \n",
       "ID_513   1981 1              -4.6             -8.3           -11.2   \n",
       "              2              -6.8            -10.3           -15.1   \n",
       "              3              -3.1             -5.7            -9.2   \n",
       "              4              -3.0             -5.3            -8.3   \n",
       "              5              -9.5            -12.1           -14.6   \n",
       "\n",
       "                   10m_wind_u  10m_wind_v  ...    swe  surf_net_solar_rad_max  \\\n",
       "location YYYY DOY                          ...                                  \n",
       "ID_513   1981 1           1.6         0.1  ...  92.38                     145   \n",
       "              2           1.5         0.4  ...  93.93                     175   \n",
       "              3           2.2         1.0  ...  94.89                     196   \n",
       "              4           1.3         0.2  ...  96.16                     163   \n",
       "              5           2.2        -1.2  ...  98.10                     176   \n",
       "\n",
       "                   surf_net_solar_rad_mean  surf_net_therm_rad_max  \\\n",
       "location YYYY DOY                                                    \n",
       "ID_513   1981 1                         30                      78   \n",
       "              2                         37                      68   \n",
       "              3                         38                      78   \n",
       "              4                         30                      70   \n",
       "              5                         38                      88   \n",
       "\n",
       "                   surf_net_therm_rad_mean  surf_press  total_et  prec  \\\n",
       "location YYYY DOY                                                        \n",
       "ID_513   1981 1                         43     89817.0      0.13  1.41   \n",
       "              2                         51     89912.0      0.14  0.79   \n",
       "              3                         45     88913.0      0.18  1.27   \n",
       "              4                         48     88436.0      0.12  2.50   \n",
       "              5                         66     88819.0      0.63  0.81   \n",
       "\n",
       "                   volsw_123  volsw_4  \n",
       "location YYYY DOY                      \n",
       "ID_513   1981 1         0.35      0.4  \n",
       "              2         0.35      0.4  \n",
       "              3         0.35      0.4  \n",
       "              4         0.35      0.4  \n",
       "              5         0.35      0.4  \n",
       "\n",
       "[5 rows x 23 columns]"
      ]
     },
     "execution_count": 2,
     "metadata": {},
     "output_type": "execute_result"
    }
   ],
   "source": [
    "data_folder_path = \"../data/2_LamaH-CE_daily/A_basins_total_upstrm/2_timeseries/daily\"\n",
    "\n",
    "# Choose 100 random files\n",
    "np.random.seed(1234)\n",
    "files = os.listdir(data_folder_path)\n",
    "files = np.random.choice(files, 100, replace=False)\n",
    "\n",
    "data = pd.DataFrame()\n",
    "\n",
    "for file in files:\n",
    "    file_data = pd.read_csv(os.path.join(data_folder_path, file), delimiter=\";\")\n",
    "    file_data['location'] = file.split(\".\")[0]\n",
    "    data = pd.concat([data, file_data], axis=0)\n",
    "    \n",
    "data.set_index(['location', 'YYYY', 'DOY'], inplace=True)   \n",
    "data.head()\n"
   ]
  },
  {
   "cell_type": "markdown",
   "metadata": {},
   "source": [
    "### 2. Null Value Analysis\n",
    "\n",
    "For this analysis we will first look for NaN or NULL values and afterwards for values equal to 0, which could also potentially indicate data errors."
   ]
  },
  {
   "cell_type": "code",
   "execution_count": 3,
   "metadata": {
    "ExecuteTime": {
     "end_time": "2025-01-02T12:33:39.725381Z",
     "start_time": "2025-01-02T12:33:39.699689Z"
    }
   },
   "outputs": [
    {
     "data": {
      "text/plain": [
       "Series([], dtype: int64)"
      ]
     },
     "execution_count": 3,
     "metadata": {},
     "output_type": "execute_result"
    }
   ],
   "source": [
    "missing_values = data.isnull().sum()\n",
    "missing_values[missing_values > 0]"
   ]
  },
  {
   "cell_type": "code",
   "execution_count": 4,
   "metadata": {
    "ExecuteTime": {
     "end_time": "2025-01-02T12:33:39.800320Z",
     "start_time": "2025-01-02T12:33:39.771638Z"
    }
   },
   "outputs": [
    {
     "data": {
      "text/plain": [
       "2m_temp_max                  4231\n",
       "2m_temp_mean                 5781\n",
       "2m_temp_min                  6742\n",
       "2m_dp_temp_max               6175\n",
       "2m_dp_temp_mean              6190\n",
       "2m_dp_temp_min               5738\n",
       "10m_wind_u                  83178\n",
       "10m_wind_v                  65048\n",
       "lai_low_veg                 42732\n",
       "swe                        624468\n",
       "surf_net_therm_rad_max        132\n",
       "surf_net_therm_rad_mean      1827\n",
       "total_et                    37871\n",
       "prec                       274806\n",
       "dtype: int64"
      ]
     },
     "execution_count": 4,
     "metadata": {},
     "output_type": "execute_result"
    }
   ],
   "source": [
    "zero_values = (data == 0).sum()\n",
    "zero_values[zero_values > 0]"
   ]
  },
  {
   "cell_type": "markdown",
   "metadata": {},
   "source": [
    "There are no missing values in the data, but there is a significant amount of values equal to 0. We need to check wether they occur naturally, like in \"prec\" as there are of course many days without precipitation, or they are misleading values. We can do this by looking at the distribution of the variables and by checking if there are very long periods with continously 0 values, which could indicate an error in data generation or collection."
   ]
  },
  {
   "cell_type": "code",
   "execution_count": 5,
   "metadata": {
    "ExecuteTime": {
     "end_time": "2025-01-02T12:33:40.116298Z",
     "start_time": "2025-01-02T12:33:39.829631Z"
    }
   },
   "outputs": [
    {
     "data": {
      "text/plain": [
       "<Axes: >"
      ]
     },
     "execution_count": 5,
     "metadata": {},
     "output_type": "execute_result"
    },
    {
     "data": {
      "image/png": "[encoded data removed]",
      "text/plain": [
       "<Figure size 640x480 with 1 Axes>"
      ]
     },
     "metadata": {},
     "output_type": "display_data"
    }
   ],
   "source": [
    "data['2m_temp_min'].hist(bins=50, alpha=0.7)\n",
    "data['2m_temp_max'].hist(bins=50, alpha=0.7)\n",
    "data['2m_temp_mean'].hist(bins=50, alpha=0.7)\n",
    "\n",
    "# data['2m_dp_temp_min'].hist(bins=50, alpha=0.7)\n",
    "# data['2m_dp_temp_max'].hist(bins=50, alpha=0.7)\n",
    "# data['2m_dp_temp_mean'].hist(bins=50, alpha=0.7)\n",
    "\n",
    "# data['10m_wind_u'].hist(bins=50, alpha=0.7)\n",
    "# data['10m_wind_v'].hist(bins=50, alpha=0.7)\n",
    "\n",
    "# data['surf_net_therm_rad_max'].hist(bins=50, alpha=0.7)\n",
    "# data['surf_net_therm_rad_mean'].hist(bins=50, alpha=0.7)\n",
    "\n",
    "# data['prec'].hist(bins=50, alpha=0.7)\n"
   ]
  },
  {
   "cell_type": "markdown",
   "metadata": {},
   "source": [
    "For all the above visualized attributes (also those which are commented out), the 0 values do not stand out of the distribution. We therefore conclude that the values occur naturally and are not indicating errors in the data. This assumption also aligns with the meaning of the data attributes, where 0 values are typically present in a natural environment."
   ]
  },
  {
   "cell_type": "code",
   "execution_count": 6,
   "metadata": {
    "ExecuteTime": {
     "end_time": "2025-01-02T12:33:40.278288Z",
     "start_time": "2025-01-02T12:33:40.147464Z"
    }
   },
   "outputs": [
    {
     "data": {
      "text/plain": [
       "<Axes: >"
      ]
     },
     "execution_count": 6,
     "metadata": {},
     "output_type": "execute_result"
    },
    {
     "data": {
      "image/png": "[encoded data removed]",
      "text/plain": [
       "<Figure size 640x480 with 1 Axes>"
      ]
     },
     "metadata": {},
     "output_type": "display_data"
    }
   ],
   "source": [
    "data['lai_low_veg'].hist(bins=50, alpha=0.7)\n"
   ]
  },
  {
   "cell_type": "markdown",
   "metadata": {},
   "source": [
    "The data attribute \"lai_low_veg\" represents the Leaf Area Index (LAI) of low vegetation. In natural environments, especially in regions with seasonal vegetation or during certain times of the year when low vegetation is not present or has shed its leaves, it is possible to have periods where the LAI is zero. Therefore, 0 values in the \"lai_low_veg\" attribute can be expected and are not necessarily indicative of data errors."
   ]
  },
  {
   "cell_type": "code",
   "execution_count": 7,
   "metadata": {
    "ExecuteTime": {
     "end_time": "2025-01-02T12:33:40.500653Z",
     "start_time": "2025-01-02T12:33:40.331337Z"
    }
   },
   "outputs": [
    {
     "data": {
      "text/plain": [
       "<Axes: >"
      ]
     },
     "execution_count": 7,
     "metadata": {},
     "output_type": "execute_result"
    },
    {
     "data": {
      "image/png": "[encoded data removed]",
      "text/plain": [
       "<Figure size 640x480 with 1 Axes>"
      ]
     },
     "metadata": {},
     "output_type": "display_data"
    }
   ],
   "source": [
    "data['swe'].hist(bins=100, alpha=0.7)"
   ]
  },
  {
   "cell_type": "markdown",
   "metadata": {},
   "source": [
    "The \"swe\" attribute represents the Snow Water Equivalent, which is the amount of water contained within the snowpack. In regions and periods without snow, it is natural to have 0 values for \"swe\". Therefore, these values are not indicative of data errors."
   ]
  },
  {
   "cell_type": "code",
   "execution_count": 8,
   "metadata": {
    "ExecuteTime": {
     "end_time": "2025-01-02T12:33:40.658356Z",
     "start_time": "2025-01-02T12:33:40.515546Z"
    }
   },
   "outputs": [
    {
     "data": {
      "text/plain": [
       "<Axes: >"
      ]
     },
     "execution_count": 8,
     "metadata": {},
     "output_type": "execute_result"
    },
    {
     "data": {
      "image/png": "[encoded data removed]",
      "text/plain": [
       "<Figure size 640x480 with 1 Axes>"
      ]
     },
     "metadata": {},
     "output_type": "display_data"
    }
   ],
   "source": [
    "data['total_et'].hist(bins=50, alpha=0.7)"
   ]
  },
  {
   "cell_type": "markdown",
   "metadata": {},
   "source": [
    "The \"total_et\" attribute represents the total evapotranspiration. In natural environments, especially during times when there is no vegetation or during periods of dormancy in vegetation, 0 values can be expected.\n",
    "\n",
    "Finally, we will check if there are periods with extraordinary many 0 values in the data. We do this with a rolling window of 365 days and look for 30 0-values or more."
   ]
  },
  {
   "cell_type": "code",
   "execution_count": 9,
   "metadata": {
    "ExecuteTime": {
     "end_time": "2025-01-02T12:33:41.212708Z",
     "start_time": "2025-01-02T12:33:40.677617Z"
    }
   },
   "outputs": [
    {
     "data": {
      "text/html": [
       "<div>\n",
       "<style scoped>\n",
       "    .dataframe tbody tr th:only-of-type {\n",
       "        vertical-align: middle;\n",
       "    }\n",
       "\n",
       "    .dataframe tbody tr th {\n",
       "        vertical-align: top;\n",
       "    }\n",
       "\n",
       "    .dataframe thead th {\n",
       "        text-align: right;\n",
       "    }\n",
       "</style>\n",
       "<table border=\"1\" class=\"dataframe\">\n",
       "  <thead>\n",
       "    <tr style=\"text-align: right;\">\n",
       "      <th></th>\n",
       "      <th></th>\n",
       "      <th></th>\n",
       "      <th>MM</th>\n",
       "      <th>DD</th>\n",
       "      <th>2m_temp_max</th>\n",
       "      <th>2m_temp_mean</th>\n",
       "      <th>2m_temp_min</th>\n",
       "      <th>2m_dp_temp_max</th>\n",
       "      <th>2m_dp_temp_mean</th>\n",
       "      <th>2m_dp_temp_min</th>\n",
       "      <th>10m_wind_u</th>\n",
       "      <th>10m_wind_v</th>\n",
       "      <th>...</th>\n",
       "      <th>swe</th>\n",
       "      <th>surf_net_solar_rad_max</th>\n",
       "      <th>surf_net_solar_rad_mean</th>\n",
       "      <th>surf_net_therm_rad_max</th>\n",
       "      <th>surf_net_therm_rad_mean</th>\n",
       "      <th>surf_press</th>\n",
       "      <th>total_et</th>\n",
       "      <th>prec</th>\n",
       "      <th>volsw_123</th>\n",
       "      <th>volsw_4</th>\n",
       "    </tr>\n",
       "    <tr>\n",
       "      <th>location</th>\n",
       "      <th>YYYY</th>\n",
       "      <th>DOY</th>\n",
       "      <th></th>\n",
       "      <th></th>\n",
       "      <th></th>\n",
       "      <th></th>\n",
       "      <th></th>\n",
       "      <th></th>\n",
       "      <th></th>\n",
       "      <th></th>\n",
       "      <th></th>\n",
       "      <th></th>\n",
       "      <th></th>\n",
       "      <th></th>\n",
       "      <th></th>\n",
       "      <th></th>\n",
       "      <th></th>\n",
       "      <th></th>\n",
       "      <th></th>\n",
       "      <th></th>\n",
       "      <th></th>\n",
       "      <th></th>\n",
       "      <th></th>\n",
       "    </tr>\n",
       "  </thead>\n",
       "  <tbody>\n",
       "  </tbody>\n",
       "</table>\n",
       "<p>0 rows × 23 columns</p>\n",
       "</div>"
      ],
      "text/plain": [
       "Empty DataFrame\n",
       "Columns: [MM, DD, 2m_temp_max, 2m_temp_mean, 2m_temp_min, 2m_dp_temp_max, 2m_dp_temp_mean, 2m_dp_temp_min, 10m_wind_u, 10m_wind_v, fcst_alb, lai_high_veg, lai_low_veg, swe, surf_net_solar_rad_max, surf_net_solar_rad_mean, surf_net_therm_rad_max, surf_net_therm_rad_mean, surf_press, total_et, prec, volsw_123, volsw_4]\n",
       "Index: []\n",
       "\n",
       "[0 rows x 23 columns]"
      ]
     },
     "execution_count": 9,
     "metadata": {},
     "output_type": "execute_result"
    }
   ],
   "source": [
    "zero_values = data.eq(0).rolling(365).sum()\n",
    "zero_values[zero_values > 30].dropna()"
   ]
  },
  {
   "cell_type": "markdown",
   "metadata": {},
   "source": [
    "As this is not the case, we conclude that all 0-values in the dataset occur naturally. Therefore, we will not remove them.\n",
    "\n",
    "### 3. Statistical Analysis\n",
    "\n",
    "We had already a first look into the distribution of the datasets. As a next step we want to get a better understanding of the key statistics and the correlations of the data attributes"
   ]
  },
  {
   "cell_type": "code",
   "execution_count": 10,
   "metadata": {
    "ExecuteTime": {
     "end_time": "2025-01-02T12:33:41.670919Z",
     "start_time": "2025-01-02T12:33:41.316444Z"
    }
   },
   "outputs": [
    {
     "data": {
      "text/html": [
       "<div>\n",
       "<style scoped>\n",
       "    .dataframe tbody tr th:only-of-type {\n",
       "        vertical-align: middle;\n",
       "    }\n",
       "\n",
       "    .dataframe tbody tr th {\n",
       "        vertical-align: top;\n",
       "    }\n",
       "\n",
       "    .dataframe thead th {\n",
       "        text-align: right;\n",
       "    }\n",
       "</style>\n",
       "<table border=\"1\" class=\"dataframe\">\n",
       "  <thead>\n",
       "    <tr style=\"text-align: right;\">\n",
       "      <th></th>\n",
       "      <th>2m_temp_max</th>\n",
       "      <th>2m_temp_mean</th>\n",
       "      <th>2m_temp_min</th>\n",
       "      <th>2m_dp_temp_max</th>\n",
       "      <th>2m_dp_temp_mean</th>\n",
       "      <th>2m_dp_temp_min</th>\n",
       "      <th>10m_wind_u</th>\n",
       "      <th>10m_wind_v</th>\n",
       "      <th>fcst_alb</th>\n",
       "      <th>lai_high_veg</th>\n",
       "      <th>lai_low_veg</th>\n",
       "    </tr>\n",
       "  </thead>\n",
       "  <tbody>\n",
       "    <tr>\n",
       "      <th>count</th>\n",
       "      <td>1.424400e+06</td>\n",
       "      <td>1.424400e+06</td>\n",
       "      <td>1.424400e+06</td>\n",
       "      <td>1.424400e+06</td>\n",
       "      <td>1.424400e+06</td>\n",
       "      <td>1.424400e+06</td>\n",
       "      <td>1.424400e+06</td>\n",
       "      <td>1.424400e+06</td>\n",
       "      <td>1.424400e+06</td>\n",
       "      <td>1.424400e+06</td>\n",
       "      <td>1.424400e+06</td>\n",
       "    </tr>\n",
       "    <tr>\n",
       "      <th>mean</th>\n",
       "      <td>1.000351e+01</td>\n",
       "      <td>5.831936e+00</td>\n",
       "      <td>1.668281e+00</td>\n",
       "      <td>4.475725e+00</td>\n",
       "      <td>2.133246e+00</td>\n",
       "      <td>-3.979523e-01</td>\n",
       "      <td>4.357029e-01</td>\n",
       "      <td>2.204121e-02</td>\n",
       "      <td>2.434645e-01</td>\n",
       "      <td>2.610648e+00</td>\n",
       "      <td>1.781159e+00</td>\n",
       "    </tr>\n",
       "    <tr>\n",
       "      <th>std</th>\n",
       "      <td>9.099359e+00</td>\n",
       "      <td>8.639764e+00</td>\n",
       "      <td>8.354565e+00</td>\n",
       "      <td>7.965344e+00</td>\n",
       "      <td>8.193017e+00</td>\n",
       "      <td>8.678267e+00</td>\n",
       "      <td>1.365783e+00</td>\n",
       "      <td>1.115237e+00</td>\n",
       "      <td>1.577531e-01</td>\n",
       "      <td>1.001971e+00</td>\n",
       "      <td>8.677936e-01</td>\n",
       "    </tr>\n",
       "    <tr>\n",
       "      <th>min</th>\n",
       "      <td>-2.700000e+01</td>\n",
       "      <td>-3.150000e+01</td>\n",
       "      <td>-3.760000e+01</td>\n",
       "      <td>-3.560000e+01</td>\n",
       "      <td>-3.890000e+01</td>\n",
       "      <td>-4.460000e+01</td>\n",
       "      <td>-6.300000e+00</td>\n",
       "      <td>-8.200000e+00</td>\n",
       "      <td>7.000000e-02</td>\n",
       "      <td>7.000000e-01</td>\n",
       "      <td>0.000000e+00</td>\n",
       "    </tr>\n",
       "    <tr>\n",
       "      <th>25%</th>\n",
       "      <td>3.000000e+00</td>\n",
       "      <td>-4.000000e-01</td>\n",
       "      <td>-3.600000e+00</td>\n",
       "      <td>-1.000000e+00</td>\n",
       "      <td>-3.300000e+00</td>\n",
       "      <td>-5.800000e+00</td>\n",
       "      <td>-2.000000e-01</td>\n",
       "      <td>-6.000000e-01</td>\n",
       "      <td>1.300000e-01</td>\n",
       "      <td>1.800000e+00</td>\n",
       "      <td>1.100000e+00</td>\n",
       "    </tr>\n",
       "    <tr>\n",
       "      <th>50%</th>\n",
       "      <td>1.010000e+01</td>\n",
       "      <td>6.000000e+00</td>\n",
       "      <td>1.900000e+00</td>\n",
       "      <td>4.900000e+00</td>\n",
       "      <td>2.600000e+00</td>\n",
       "      <td>3.000000e-01</td>\n",
       "      <td>3.000000e-01</td>\n",
       "      <td>1.000000e-01</td>\n",
       "      <td>1.700000e-01</td>\n",
       "      <td>2.500000e+00</td>\n",
       "      <td>1.900000e+00</td>\n",
       "    </tr>\n",
       "    <tr>\n",
       "      <th>75%</th>\n",
       "      <td>1.720000e+01</td>\n",
       "      <td>1.270000e+01</td>\n",
       "      <td>8.200000e+00</td>\n",
       "      <td>1.080000e+01</td>\n",
       "      <td>8.600000e+00</td>\n",
       "      <td>6.300000e+00</td>\n",
       "      <td>1.000000e+00</td>\n",
       "      <td>7.000000e-01</td>\n",
       "      <td>3.400000e-01</td>\n",
       "      <td>3.400000e+00</td>\n",
       "      <td>2.500000e+00</td>\n",
       "    </tr>\n",
       "    <tr>\n",
       "      <th>max</th>\n",
       "      <td>3.700000e+01</td>\n",
       "      <td>2.960000e+01</td>\n",
       "      <td>2.540000e+01</td>\n",
       "      <td>2.480000e+01</td>\n",
       "      <td>2.120000e+01</td>\n",
       "      <td>2.030000e+01</td>\n",
       "      <td>8.500000e+00</td>\n",
       "      <td>8.000000e+00</td>\n",
       "      <td>8.100000e-01</td>\n",
       "      <td>5.100000e+00</td>\n",
       "      <td>3.700000e+00</td>\n",
       "    </tr>\n",
       "  </tbody>\n",
       "</table>\n",
       "</div>"
      ],
      "text/plain": [
       "        2m_temp_max  2m_temp_mean   2m_temp_min  2m_dp_temp_max  \\\n",
       "count  1.424400e+06  1.424400e+06  1.424400e+06    1.424400e+06   \n",
       "mean   1.000351e+01  5.831936e+00  1.668281e+00    4.475725e+00   \n",
       "std    9.099359e+00  8.639764e+00  8.354565e+00    7.965344e+00   \n",
       "min   -2.700000e+01 -3.150000e+01 -3.760000e+01   -3.560000e+01   \n",
       "25%    3.000000e+00 -4.000000e-01 -3.600000e+00   -1.000000e+00   \n",
       "50%    1.010000e+01  6.000000e+00  1.900000e+00    4.900000e+00   \n",
       "75%    1.720000e+01  1.270000e+01  8.200000e+00    1.080000e+01   \n",
       "max    3.700000e+01  2.960000e+01  2.540000e+01    2.480000e+01   \n",
       "\n",
       "       2m_dp_temp_mean  2m_dp_temp_min    10m_wind_u    10m_wind_v  \\\n",
       "count     1.424400e+06    1.424400e+06  1.424400e+06  1.424400e+06   \n",
       "mean      2.133246e+00   -3.979523e-01  4.357029e-01  2.204121e-02   \n",
       "std       8.193017e+00    8.678267e+00  1.365783e+00  1.115237e+00   \n",
       "min      -3.890000e+01   -4.460000e+01 -6.300000e+00 -8.200000e+00   \n",
       "25%      -3.300000e+00   -5.800000e+00 -2.000000e-01 -6.000000e-01   \n",
       "50%       2.600000e+00    3.000000e-01  3.000000e-01  1.000000e-01   \n",
       "75%       8.600000e+00    6.300000e+00  1.000000e+00  7.000000e-01   \n",
       "max       2.120000e+01    2.030000e+01  8.500000e+00  8.000000e+00   \n",
       "\n",
       "           fcst_alb  lai_high_veg   lai_low_veg  \n",
       "count  1.424400e+06  1.424400e+06  1.424400e+06  \n",
       "mean   2.434645e-01  2.610648e+00  1.781159e+00  \n",
       "std    1.577531e-01  1.001971e+00  8.677936e-01  \n",
       "min    7.000000e-02  7.000000e-01  0.000000e+00  \n",
       "25%    1.300000e-01  1.800000e+00  1.100000e+00  \n",
       "50%    1.700000e-01  2.500000e+00  1.900000e+00  \n",
       "75%    3.400000e-01  3.400000e+00  2.500000e+00  \n",
       "max    8.100000e-01  5.100000e+00  3.700000e+00  "
      ]
     },
     "execution_count": 10,
     "metadata": {},
     "output_type": "execute_result"
    }
   ],
   "source": [
    "data.iloc[:, 2:13].describe()"
   ]
  },
  {
   "cell_type": "markdown",
   "metadata": {},
   "source": [
    "Temperature has its minimum at -37°C and maximum at +37°C, with a mean of +6.2°C. Average wind speed is a bit higher towards east 0.42 m/s compared to north 0.06 m/s, where also the maximum wind speed was measured at 8.9 m/s in eastern direction."
   ]
  },
  {
   "cell_type": "code",
   "execution_count": 11,
   "metadata": {
    "ExecuteTime": {
     "end_time": "2025-01-02T12:33:42.021252Z",
     "start_time": "2025-01-02T12:33:41.707376Z"
    }
   },
   "outputs": [
    {
     "data": {
      "text/html": [
       "<div>\n",
       "<style scoped>\n",
       "    .dataframe tbody tr th:only-of-type {\n",
       "        vertical-align: middle;\n",
       "    }\n",
       "\n",
       "    .dataframe tbody tr th {\n",
       "        vertical-align: top;\n",
       "    }\n",
       "\n",
       "    .dataframe thead th {\n",
       "        text-align: right;\n",
       "    }\n",
       "</style>\n",
       "<table border=\"1\" class=\"dataframe\">\n",
       "  <thead>\n",
       "    <tr style=\"text-align: right;\">\n",
       "      <th></th>\n",
       "      <th>swe</th>\n",
       "      <th>surf_net_solar_rad_max</th>\n",
       "      <th>surf_net_solar_rad_mean</th>\n",
       "      <th>surf_net_therm_rad_max</th>\n",
       "      <th>surf_net_therm_rad_mean</th>\n",
       "      <th>surf_press</th>\n",
       "      <th>total_et</th>\n",
       "      <th>prec</th>\n",
       "      <th>volsw_123</th>\n",
       "      <th>volsw_4</th>\n",
       "    </tr>\n",
       "  </thead>\n",
       "  <tbody>\n",
       "    <tr>\n",
       "      <th>count</th>\n",
       "      <td>1.424400e+06</td>\n",
       "      <td>1.424400e+06</td>\n",
       "      <td>1.424400e+06</td>\n",
       "      <td>1.424400e+06</td>\n",
       "      <td>1.424400e+06</td>\n",
       "      <td>1.424400e+06</td>\n",
       "      <td>1.424400e+06</td>\n",
       "      <td>1.424400e+06</td>\n",
       "      <td>1.424400e+06</td>\n",
       "      <td>1.424400e+06</td>\n",
       "    </tr>\n",
       "    <tr>\n",
       "      <th>mean</th>\n",
       "      <td>1.466676e+02</td>\n",
       "      <td>3.708447e+02</td>\n",
       "      <td>1.095375e+02</td>\n",
       "      <td>8.139923e+01</td>\n",
       "      <td>4.893396e+01</td>\n",
       "      <td>9.033884e+04</td>\n",
       "      <td>1.447818e+00</td>\n",
       "      <td>3.398706e+00</td>\n",
       "      <td>3.597687e-01</td>\n",
       "      <td>3.840735e-01</td>\n",
       "    </tr>\n",
       "    <tr>\n",
       "      <th>std</th>\n",
       "      <td>5.007856e+02</td>\n",
       "      <td>1.962243e+02</td>\n",
       "      <td>7.182848e+01</td>\n",
       "      <td>2.689647e+01</td>\n",
       "      <td>2.204781e+01</td>\n",
       "      <td>6.218721e+03</td>\n",
       "      <td>1.337588e+00</td>\n",
       "      <td>5.737017e+00</td>\n",
       "      <td>5.056819e-02</td>\n",
       "      <td>4.356295e-02</td>\n",
       "    </tr>\n",
       "    <tr>\n",
       "      <th>min</th>\n",
       "      <td>0.000000e+00</td>\n",
       "      <td>3.000000e+00</td>\n",
       "      <td>1.000000e+00</td>\n",
       "      <td>-1.700000e+01</td>\n",
       "      <td>-3.000000e+01</td>\n",
       "      <td>6.869800e+04</td>\n",
       "      <td>-1.700000e+00</td>\n",
       "      <td>0.000000e+00</td>\n",
       "      <td>1.500000e-01</td>\n",
       "      <td>2.300000e-01</td>\n",
       "    </tr>\n",
       "    <tr>\n",
       "      <th>25%</th>\n",
       "      <td>0.000000e+00</td>\n",
       "      <td>1.980000e+02</td>\n",
       "      <td>4.500000e+01</td>\n",
       "      <td>6.400000e+01</td>\n",
       "      <td>3.200000e+01</td>\n",
       "      <td>8.622100e+04</td>\n",
       "      <td>2.400000e-01</td>\n",
       "      <td>4.000000e-02</td>\n",
       "      <td>3.300000e-01</td>\n",
       "      <td>3.600000e-01</td>\n",
       "    </tr>\n",
       "    <tr>\n",
       "      <th>50%</th>\n",
       "      <td>4.000000e-01</td>\n",
       "      <td>3.560000e+02</td>\n",
       "      <td>9.600000e+01</td>\n",
       "      <td>8.400000e+01</td>\n",
       "      <td>5.000000e+01</td>\n",
       "      <td>9.265100e+04</td>\n",
       "      <td>1.040000e+00</td>\n",
       "      <td>9.000000e-01</td>\n",
       "      <td>3.700000e-01</td>\n",
       "      <td>3.900000e-01</td>\n",
       "    </tr>\n",
       "    <tr>\n",
       "      <th>75%</th>\n",
       "      <td>4.844000e+01</td>\n",
       "      <td>5.410000e+02</td>\n",
       "      <td>1.680000e+02</td>\n",
       "      <td>1.010000e+02</td>\n",
       "      <td>6.600000e+01</td>\n",
       "      <td>9.487800e+04</td>\n",
       "      <td>2.540000e+00</td>\n",
       "      <td>4.410000e+00</td>\n",
       "      <td>3.900000e-01</td>\n",
       "      <td>4.100000e-01</td>\n",
       "    </tr>\n",
       "    <tr>\n",
       "      <th>max</th>\n",
       "      <td>3.709210e+03</td>\n",
       "      <td>8.360000e+02</td>\n",
       "      <td>3.080000e+02</td>\n",
       "      <td>1.880000e+02</td>\n",
       "      <td>1.190000e+02</td>\n",
       "      <td>1.008490e+05</td>\n",
       "      <td>8.240000e+00</td>\n",
       "      <td>1.259700e+02</td>\n",
       "      <td>5.100000e-01</td>\n",
       "      <td>5.500000e-01</td>\n",
       "    </tr>\n",
       "  </tbody>\n",
       "</table>\n",
       "</div>"
      ],
      "text/plain": [
       "                swe  surf_net_solar_rad_max  surf_net_solar_rad_mean  \\\n",
       "count  1.424400e+06            1.424400e+06             1.424400e+06   \n",
       "mean   1.466676e+02            3.708447e+02             1.095375e+02   \n",
       "std    5.007856e+02            1.962243e+02             7.182848e+01   \n",
       "min    0.000000e+00            3.000000e+00             1.000000e+00   \n",
       "25%    0.000000e+00            1.980000e+02             4.500000e+01   \n",
       "50%    4.000000e-01            3.560000e+02             9.600000e+01   \n",
       "75%    4.844000e+01            5.410000e+02             1.680000e+02   \n",
       "max    3.709210e+03            8.360000e+02             3.080000e+02   \n",
       "\n",
       "       surf_net_therm_rad_max  surf_net_therm_rad_mean    surf_press  \\\n",
       "count            1.424400e+06             1.424400e+06  1.424400e+06   \n",
       "mean             8.139923e+01             4.893396e+01  9.033884e+04   \n",
       "std              2.689647e+01             2.204781e+01  6.218721e+03   \n",
       "min             -1.700000e+01            -3.000000e+01  6.869800e+04   \n",
       "25%              6.400000e+01             3.200000e+01  8.622100e+04   \n",
       "50%              8.400000e+01             5.000000e+01  9.265100e+04   \n",
       "75%              1.010000e+02             6.600000e+01  9.487800e+04   \n",
       "max              1.880000e+02             1.190000e+02  1.008490e+05   \n",
       "\n",
       "           total_et          prec     volsw_123       volsw_4  \n",
       "count  1.424400e+06  1.424400e+06  1.424400e+06  1.424400e+06  \n",
       "mean   1.447818e+00  3.398706e+00  3.597687e-01  3.840735e-01  \n",
       "std    1.337588e+00  5.737017e+00  5.056819e-02  4.356295e-02  \n",
       "min   -1.700000e+00  0.000000e+00  1.500000e-01  2.300000e-01  \n",
       "25%    2.400000e-01  4.000000e-02  3.300000e-01  3.600000e-01  \n",
       "50%    1.040000e+00  9.000000e-01  3.700000e-01  3.900000e-01  \n",
       "75%    2.540000e+00  4.410000e+00  3.900000e-01  4.100000e-01  \n",
       "max    8.240000e+00  1.259700e+02  5.100000e-01  5.500000e-01  "
      ]
     },
     "execution_count": 11,
     "metadata": {},
     "output_type": "execute_result"
    }
   ],
   "source": [
    "data.iloc[:, 13:].describe()"
   ]
  },
  {
   "cell_type": "markdown",
   "metadata": {},
   "source": [
    "The target variable 'prec', representing the total amount of precipitation, hexhibits a mean value of $3.57$ mm, a maximum value of $125.27$ mm, and a minimum of $0$ mm, as obviously there are days without precipitation. In general, there seems to be quite a large range of recorded precipitation values.\n",
    "\n",
    "(The variables 'volsw_123' and 'volsw_4', representing the fraction of water in the topsoil and subsoil layers respectively, exhibit similar statistics. The mean values are $0.36 m^3m^{-3}$ for 'volsw_123' and $0.39 m^3m^{-3}$ for 'volsw_4'. Both variables have a maximum value of $0.52 m^3m^{-3}$, which appears to be the maximum water-holding capacity of the soil in these examples. The minimum values are $0.11 m^3m^{-3}$ for the topsoil layer ('volsw_123') and $0.21 m^3m^{-3}$ for the subsoil layer ('volsw_4'), suggesting that the topsoil layer dries out more quickly.)\n",
    "\n",
    "All values above, especially the minimum and maximum values seem to be in a reasonable range. Therefore, no outlier removal will be necessary.\n",
    "\n",
    "As a next step, we want to investigate if and to what extend the different data attributes correlate with each other."
   ]
  },
  {
   "cell_type": "code",
   "execution_count": 12,
   "metadata": {
    "ExecuteTime": {
     "end_time": "2025-01-02T12:33:43.362509Z",
     "start_time": "2025-01-02T12:33:42.097764Z"
    }
   },
   "outputs": [
    {
     "name": "stdout",
     "output_type": "stream",
     "text": [
      "Pairs with correlation >= 0.8:\n",
      "1. 2m_temp_max and 2m_temp_mean: 0.98\n",
      "2. 2m_temp_max and 2m_temp_min: 0.93\n",
      "3. 2m_temp_max and 2m_dp_temp_max: 0.95\n",
      "4. 2m_temp_max and 2m_dp_temp_mean: 0.93\n",
      "5. 2m_temp_max and 2m_dp_temp_min: 0.91\n",
      "6. 2m_temp_max and total_et: 0.84\n",
      "7. 2m_temp_mean and 2m_temp_min: 0.97\n",
      "8. 2m_temp_mean and 2m_dp_temp_max: 0.97\n",
      "9. 2m_temp_mean and 2m_dp_temp_mean: 0.97\n",
      "10. 2m_temp_mean and 2m_dp_temp_min: 0.96\n",
      "11. 2m_temp_mean and total_et: 0.84\n",
      "12. 2m_temp_min and 2m_dp_temp_max: 0.96\n",
      "13. 2m_temp_min and 2m_dp_temp_mean: 0.97\n",
      "14. 2m_temp_min and 2m_dp_temp_min: 0.98\n",
      "15. 2m_dp_temp_max and 2m_dp_temp_mean: 0.99\n",
      "16. 2m_dp_temp_max and 2m_dp_temp_min: 0.96\n",
      "17. 2m_dp_temp_mean and 2m_dp_temp_min: 0.99\n",
      "18. surf_net_solar_rad_max and surf_net_solar_rad_mean: 0.98\n",
      "19. surf_net_solar_rad_max and total_et: 0.84\n",
      "20. surf_net_solar_rad_mean and total_et: 0.88\n",
      "21. surf_net_therm_rad_max and surf_net_therm_rad_mean: 0.92\n"
     ]
    },
    {
     "data": {
      "image/png": "[encoded data removed]",
      "text/plain": [
       "<Figure size 1000x1000 with 2 Axes>"
      ]
     },
     "metadata": {},
     "output_type": "display_data"
    }
   ],
   "source": [
    "corr = data.iloc[:, 2:].corr()\n",
    "\n",
    "k=1\n",
    "print(\"Pairs with correlation >= 0.8:\")\n",
    "for i in range(corr.shape[0]):\n",
    "    for j in range(i+1, corr.shape[0]):\n",
    "        if corr.iloc[i, j] >= 0.8:\n",
    "            print(f\"{k}. {corr.columns[i]} and {corr.columns[j]}: {round(corr.iloc[i, j], 2)}\")\n",
    "            k += 1\n",
    "\n",
    "fig = plt.figure(figsize=(10, 10))\n",
    "ax = fig.add_subplot(111)\n",
    "cax = ax.matshow(corr)\n",
    "fig.colorbar(cax)\n",
    "ax.set_xticks(range(len(corr.columns)))\n",
    "ax.set_yticks(range(len(corr.columns)))\n",
    "ax.set_xticklabels(corr.columns, rotation=90)\n",
    "ax.set_yticklabels(corr.columns)\n",
    "plt.show()\n"
   ]
  },
  {
   "cell_type": "markdown",
   "metadata": {},
   "source": [
    "Well, it is not really surprising that the 6 temperature variables show a very high correlation as well as the 4 solar/thermal radiation attributes. Apart from that, the data attributes aren't especially high correlated. The **Forecast Albedo** shares a negative correlation with many data attributes. The target variable does not show high correlation with other variables. This highlights the importance for a feature importance study in this context, which will be carried out at a later stage in the project.\n",
    "\n",
    "### 4. Data Preprocessing\n",
    "\n",
    "As we saw during our data exploration there are no missing values, outliers or other suspicious values in the dataset. To finish the preprocessing phase we will standardize the data, as this might be beneficial for the output of our models and split the data into a train, validation and test set.\n",
    "\n",
    "We have time dependent data of the years 1981 to 2019. We will use the last 3 years 2017-2019 for testing and 2014-2016 as the validation data."
   ]
  },
  {
   "cell_type": "code",
   "execution_count": 13,
   "metadata": {
    "ExecuteTime": {
     "end_time": "2025-01-02T12:33:43.500049Z",
     "start_time": "2025-01-02T12:33:43.395501Z"
    }
   },
   "outputs": [],
   "source": [
    "data = data.astype({col: 'float64' for col in data.select_dtypes('int64').columns})\n",
    "data.reset_index(inplace=True)"
   ]
  },
  {
   "cell_type": "code",
   "execution_count": 14,
   "metadata": {
    "ExecuteTime": {
     "end_time": "2025-01-02T12:33:43.690958Z",
     "start_time": "2025-01-02T12:33:43.535977Z"
    }
   },
   "outputs": [],
   "source": [
    "test_data = data[data['YYYY'] >= 2017]\n",
    "validation_data = data[(data['YYYY'] >= 2014) & (data['YYYY'] < 2017)]\n",
    "train_data = data[data['YYYY'] < 2014]"
   ]
  },
  {
   "cell_type": "code",
   "execution_count": 15,
   "metadata": {
    "ExecuteTime": {
     "end_time": "2025-01-02T12:33:44.097298Z",
     "start_time": "2025-01-02T12:33:43.694962Z"
    }
   },
   "outputs": [],
   "source": [
    "scaler = StandardScaler()\n",
    "scaler.fit(train_data.iloc[:, 5:])\n",
    "\n",
    "train_data.iloc[:, 5:] = scaler.transform(train_data.iloc[:, 5:])\n",
    "validation_data.iloc[:, 5:] = scaler.transform(validation_data.iloc[:, 5:])\n",
    "test_data.iloc[:, 5:] = scaler.transform(test_data.iloc[:, 5:])"
   ]
  },
  {
   "cell_type": "code",
   "execution_count": 16,
   "metadata": {
    "ExecuteTime": {
     "end_time": "2025-01-02T12:33:44.147053Z",
     "start_time": "2025-01-02T12:33:44.133924Z"
    }
   },
   "outputs": [
    {
     "data": {
      "text/html": [
       "<div>\n",
       "<style scoped>\n",
       "    .dataframe tbody tr th:only-of-type {\n",
       "        vertical-align: middle;\n",
       "    }\n",
       "\n",
       "    .dataframe tbody tr th {\n",
       "        vertical-align: top;\n",
       "    }\n",
       "\n",
       "    .dataframe thead th {\n",
       "        text-align: right;\n",
       "    }\n",
       "</style>\n",
       "<table border=\"1\" class=\"dataframe\">\n",
       "  <thead>\n",
       "    <tr style=\"text-align: right;\">\n",
       "      <th></th>\n",
       "      <th>location</th>\n",
       "      <th>YYYY</th>\n",
       "      <th>DOY</th>\n",
       "      <th>MM</th>\n",
       "      <th>DD</th>\n",
       "      <th>2m_temp_max</th>\n",
       "      <th>2m_temp_mean</th>\n",
       "      <th>2m_temp_min</th>\n",
       "      <th>2m_dp_temp_max</th>\n",
       "      <th>2m_dp_temp_mean</th>\n",
       "      <th>...</th>\n",
       "      <th>swe</th>\n",
       "      <th>surf_net_solar_rad_max</th>\n",
       "      <th>surf_net_solar_rad_mean</th>\n",
       "      <th>surf_net_therm_rad_max</th>\n",
       "      <th>surf_net_therm_rad_mean</th>\n",
       "      <th>surf_press</th>\n",
       "      <th>total_et</th>\n",
       "      <th>prec</th>\n",
       "      <th>volsw_123</th>\n",
       "      <th>volsw_4</th>\n",
       "    </tr>\n",
       "  </thead>\n",
       "  <tbody>\n",
       "    <tr>\n",
       "      <th>0</th>\n",
       "      <td>ID_513</td>\n",
       "      <td>1981</td>\n",
       "      <td>1</td>\n",
       "      <td>1.0</td>\n",
       "      <td>1.0</td>\n",
       "      <td>-1.065293</td>\n",
       "      <td>-1.238453</td>\n",
       "      <td>-1.221688</td>\n",
       "      <td>-1.110838</td>\n",
       "      <td>-1.242169</td>\n",
       "      <td>...</td>\n",
       "      <td>-0.110952</td>\n",
       "      <td>-1.147248</td>\n",
       "      <td>-1.105170</td>\n",
       "      <td>-0.126631</td>\n",
       "      <td>-0.268660</td>\n",
       "      <td>-0.083402</td>\n",
       "      <td>-0.977630</td>\n",
       "      <td>-0.345796</td>\n",
       "      <td>-0.199594</td>\n",
       "      <td>0.358882</td>\n",
       "    </tr>\n",
       "    <tr>\n",
       "      <th>1</th>\n",
       "      <td>ID_513</td>\n",
       "      <td>1981</td>\n",
       "      <td>2</td>\n",
       "      <td>1.0</td>\n",
       "      <td>2.0</td>\n",
       "      <td>-1.339485</td>\n",
       "      <td>-1.492272</td>\n",
       "      <td>-1.733714</td>\n",
       "      <td>-1.385201</td>\n",
       "      <td>-1.484536</td>\n",
       "      <td>...</td>\n",
       "      <td>-0.107857</td>\n",
       "      <td>-0.993704</td>\n",
       "      <td>-1.007201</td>\n",
       "      <td>-0.499366</td>\n",
       "      <td>0.094401</td>\n",
       "      <td>-0.068128</td>\n",
       "      <td>-0.970110</td>\n",
       "      <td>-0.453925</td>\n",
       "      <td>-0.199594</td>\n",
       "      <td>0.358882</td>\n",
       "    </tr>\n",
       "    <tr>\n",
       "      <th>2</th>\n",
       "      <td>ID_513</td>\n",
       "      <td>1981</td>\n",
       "      <td>3</td>\n",
       "      <td>1.0</td>\n",
       "      <td>3.0</td>\n",
       "      <td>-1.054325</td>\n",
       "      <td>-1.053858</td>\n",
       "      <td>-0.959722</td>\n",
       "      <td>-0.923772</td>\n",
       "      <td>-0.927093</td>\n",
       "      <td>...</td>\n",
       "      <td>-0.105940</td>\n",
       "      <td>-0.886223</td>\n",
       "      <td>-0.993206</td>\n",
       "      <td>-0.126631</td>\n",
       "      <td>-0.177895</td>\n",
       "      <td>-0.228748</td>\n",
       "      <td>-0.940032</td>\n",
       "      <td>-0.370212</td>\n",
       "      <td>-0.199594</td>\n",
       "      <td>0.358882</td>\n",
       "    </tr>\n",
       "    <tr>\n",
       "      <th>3</th>\n",
       "      <td>ID_513</td>\n",
       "      <td>1981</td>\n",
       "      <td>4</td>\n",
       "      <td>1.0</td>\n",
       "      <td>4.0</td>\n",
       "      <td>-1.098196</td>\n",
       "      <td>-1.076932</td>\n",
       "      <td>-1.019260</td>\n",
       "      <td>-0.911301</td>\n",
       "      <td>-0.878619</td>\n",
       "      <td>...</td>\n",
       "      <td>-0.103404</td>\n",
       "      <td>-1.055122</td>\n",
       "      <td>-1.105170</td>\n",
       "      <td>-0.424819</td>\n",
       "      <td>-0.041747</td>\n",
       "      <td>-0.305440</td>\n",
       "      <td>-0.985149</td>\n",
       "      <td>-0.155698</td>\n",
       "      <td>-0.199594</td>\n",
       "      <td>0.358882</td>\n",
       "    </tr>\n",
       "    <tr>\n",
       "      <th>4</th>\n",
       "      <td>ID_513</td>\n",
       "      <td>1981</td>\n",
       "      <td>5</td>\n",
       "      <td>1.0</td>\n",
       "      <td>5.0</td>\n",
       "      <td>-1.449161</td>\n",
       "      <td>-1.434586</td>\n",
       "      <td>-1.507470</td>\n",
       "      <td>-1.721919</td>\n",
       "      <td>-1.702666</td>\n",
       "      <td>...</td>\n",
       "      <td>-0.099530</td>\n",
       "      <td>-0.988586</td>\n",
       "      <td>-0.993206</td>\n",
       "      <td>0.246104</td>\n",
       "      <td>0.775140</td>\n",
       "      <td>-0.243861</td>\n",
       "      <td>-0.601648</td>\n",
       "      <td>-0.450437</td>\n",
       "      <td>-0.199594</td>\n",
       "      <td>0.358882</td>\n",
       "    </tr>\n",
       "  </tbody>\n",
       "</table>\n",
       "<p>5 rows × 26 columns</p>\n",
       "</div>"
      ],
      "text/plain": [
       "  location  YYYY  DOY   MM   DD  2m_temp_max  2m_temp_mean  2m_temp_min  \\\n",
       "0   ID_513  1981    1  1.0  1.0    -1.065293     -1.238453    -1.221688   \n",
       "1   ID_513  1981    2  1.0  2.0    -1.339485     -1.492272    -1.733714   \n",
       "2   ID_513  1981    3  1.0  3.0    -1.054325     -1.053858    -0.959722   \n",
       "3   ID_513  1981    4  1.0  4.0    -1.098196     -1.076932    -1.019260   \n",
       "4   ID_513  1981    5  1.0  5.0    -1.449161     -1.434586    -1.507470   \n",
       "\n",
       "   2m_dp_temp_max  2m_dp_temp_mean  ...       swe  surf_net_solar_rad_max  \\\n",
       "0       -1.110838        -1.242169  ... -0.110952               -1.147248   \n",
       "1       -1.385201        -1.484536  ... -0.107857               -0.993704   \n",
       "2       -0.923772        -0.927093  ... -0.105940               -0.886223   \n",
       "3       -0.911301        -0.878619  ... -0.103404               -1.055122   \n",
       "4       -1.721919        -1.702666  ... -0.099530               -0.988586   \n",
       "\n",
       "   surf_net_solar_rad_mean  surf_net_therm_rad_max  surf_net_therm_rad_mean  \\\n",
       "0                -1.105170               -0.126631                -0.268660   \n",
       "1                -1.007201               -0.499366                 0.094401   \n",
       "2                -0.993206               -0.126631                -0.177895   \n",
       "3                -1.105170               -0.424819                -0.041747   \n",
       "4                -0.993206                0.246104                 0.775140   \n",
       "\n",
       "   surf_press  total_et      prec  volsw_123   volsw_4  \n",
       "0   -0.083402 -0.977630 -0.345796  -0.199594  0.358882  \n",
       "1   -0.068128 -0.970110 -0.453925  -0.199594  0.358882  \n",
       "2   -0.228748 -0.940032 -0.370212  -0.199594  0.358882  \n",
       "3   -0.305440 -0.985149 -0.155698  -0.199594  0.358882  \n",
       "4   -0.243861 -0.601648 -0.450437  -0.199594  0.358882  \n",
       "\n",
       "[5 rows x 26 columns]"
      ]
     },
     "execution_count": 16,
     "metadata": {},
     "output_type": "execute_result"
    }
   ],
   "source": [
    "train_data.head()"
   ]
  },
  {
   "cell_type": "markdown",
   "metadata": {},
   "source": [
    "### 5. Discussing Data Quality & Engineering\n",
    "\n",
    "Understanding data quality and performing data engineering are probably the most important steps before model training. High-quality data ensures that the models are trained on accurate and relevant information, leading to better performance and more reliable predictions. Quality is more important than quantity in most cases. \n",
    "When it comes to data quality we want to ensure there are no missing or invalid values, since they could lead to biased models or incorrect predictions. The data should be consistent and accurately represent the real-world scenario that it is intended to model, as it is the case for our data here.\n",
    "With data engineering we want to help the model to stay on track. Crucial steps are for example outlier removal or data normalization/standardization as performed above. This is especially important for algorithms that are sensitive to feature scales to assure that all features contribute equally to the model training process. We also split the data into training, validation and test sets to ensure that the model is evaluated on unseen data to provide a realisitc estimate of its performance.\n",
    "By addressing these aspects of data quality and engineering, we can ensure that the models are trained on reliable and meaningful data, leading to better generalization and more accurate predictions.\n",
    "\n",
    "### 6. Save the data"
   ]
  },
  {
   "cell_type": "code",
   "execution_count": 17,
   "metadata": {
    "ExecuteTime": {
     "end_time": "2025-01-02T12:34:15.560450Z",
     "start_time": "2025-01-02T12:33:44.280556Z"
    }
   },
   "outputs": [],
   "source": [
    "os.makedirs(\"../data/processed\", exist_ok=True)\n",
    "\n",
    "train_data.to_csv(\"../data/processed/train_data.csv\", index=False)\n",
    "validation_data.to_csv(\"../data/processed/validation_data.csv\", index=False)\n",
    "test_data.to_csv(\"../data/processed/test_data.csv\", index=False)"
   ]
  },
  {
   "cell_type": "code",
   "execution_count": null,
   "metadata": {
    "ExecuteTime": {
     "end_time": "2025-01-02T12:34:15.603947Z",
     "start_time": "2025-01-02T12:34:15.602191Z"
    }
   },
   "outputs": [],
   "source": []
  }
 ],
 "metadata": {
  "kernelspec": {
   "display_name": "venv",
   "language": "python",
   "name": "python3"
  },
  "language_info": {
   "codemirror_mode": {
    "name": "ipython",
    "version": 3
   },
   "file_extension": ".py",
   "mimetype": "text/x-python",
   "name": "python",
   "nbconvert_exporter": "python",
   "pygments_lexer": "ipython3",
   "version": "3.11.5"
  }
 },
 "nbformat": 4,
 "nbformat_minor": 2
}
