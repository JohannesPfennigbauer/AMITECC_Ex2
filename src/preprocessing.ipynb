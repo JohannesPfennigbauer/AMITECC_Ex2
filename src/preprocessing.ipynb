{
 "cells": [
  {
   "cell_type": "markdown",
   "metadata": {},
   "source": [
    "### 0. Install necessary packages"
   ]
  },
  {
   "cell_type": "code",
   "metadata": {
    "ExecuteTime": {
     "end_time": "2025-01-02T12:33:35.748793Z",
     "start_time": "2025-01-02T12:33:34.892982Z"
    }
   },
   "source": [
    "import os\n",
    "import numpy as np\n",
    "import pandas as pd\n",
    "import matplotlib.pyplot as plt\n",
    "from sklearn.preprocessing import StandardScaler"
   ],
   "outputs": [],
   "execution_count": 1
  },
  {
   "cell_type": "markdown",
   "metadata": {},
   "source": [
    "### 1. Load 100 random location files from the folder"
   ]
  },
  {
   "cell_type": "code",
   "metadata": {
    "ExecuteTime": {
     "end_time": "2025-01-02T12:33:39.518649Z",
     "start_time": "2025-01-02T12:33:35.757247Z"
    }
   },
   "source": [
    "data_folder_path = \"../data/2_LamaH-CE_daily/A_basins_total_upstrm/2_timeseries/daily\"\n",
    "\n",
    "# Choose 100 random files\n",
    "np.random.seed(1234)\n",
    "files = os.listdir(data_folder_path)\n",
    "files = np.random.choice(files, 100, replace=False)\n",
    "\n",
    "data = pd.DataFrame()\n",
    "\n",
    "for file in files:\n",
    "    file_data = pd.read_csv(os.path.join(data_folder_path, file), delimiter=\";\")\n",
    "    file_data['location'] = file.split(\".\")[0]\n",
    "    data = pd.concat([data, file_data], axis=0)\n",
    "    \n",
    "data.set_index(['location', 'YYYY', 'DOY'], inplace=True)   \n",
    "data.head()\n"
   ],
   "outputs": [
    {
     "data": {
      "text/plain": [
       "                   MM  DD  2m_temp_max  2m_temp_mean  2m_temp_min  \\\n",
       "location YYYY DOY                                                   \n",
       "ID_825   1981 1     1   1          2.0          -0.5         -3.1   \n",
       "              2     1   2         -0.7          -2.6         -3.7   \n",
       "              3     1   3          2.8           1.4         -0.5   \n",
       "              4     1   4          0.4          -0.7         -2.5   \n",
       "              5     1   5         -2.6          -5.0         -6.6   \n",
       "\n",
       "                   2m_dp_temp_max  2m_dp_temp_mean  2m_dp_temp_min  \\\n",
       "location YYYY DOY                                                    \n",
       "ID_825   1981 1              -0.6             -3.3            -6.8   \n",
       "              2              -1.6             -5.0            -6.8   \n",
       "              3               1.2              0.3            -1.4   \n",
       "              4              -1.2             -2.0            -3.5   \n",
       "              5              -3.7             -6.6            -9.1   \n",
       "\n",
       "                   10m_wind_u  10m_wind_v  ...    swe  surf_net_solar_rad_max  \\\n",
       "location YYYY DOY                          ...                                  \n",
       "ID_825   1981 1           5.7         0.3  ...   6.28                     131   \n",
       "              2           4.1        -0.4  ...   9.14                     142   \n",
       "              3           5.6         0.9  ...  17.17                      60   \n",
       "              4           4.0         0.0  ...  18.10                      88   \n",
       "              5           2.1        -2.0  ...  20.18                      59   \n",
       "\n",
       "                   surf_net_solar_rad_mean  surf_net_therm_rad_max  \\\n",
       "location YYYY DOY                                                    \n",
       "ID_825   1981 1                         22                      75   \n",
       "              2                         25                      76   \n",
       "              3                         10                      53   \n",
       "              4                         17                      72   \n",
       "              5                         12                      71   \n",
       "\n",
       "                   surf_net_therm_rad_mean  surf_press  total_et   prec  \\\n",
       "location YYYY DOY                                                         \n",
       "ID_825   1981 1                         39     93077.0      0.82   4.69   \n",
       "              2                         39     93273.0      0.32   6.14   \n",
       "              3                         12     91853.0      0.18  14.38   \n",
       "              4                         38     91827.0      0.27   4.47   \n",
       "              5                         36     92530.0      0.13   1.93   \n",
       "\n",
       "                   volsw_123  volsw_4  \n",
       "location YYYY DOY                      \n",
       "ID_825   1981 1         0.40     0.39  \n",
       "              2         0.39     0.39  \n",
       "              3         0.39     0.39  \n",
       "              4         0.40     0.39  \n",
       "              5         0.40     0.39  \n",
       "\n",
       "[5 rows x 23 columns]"
      ],
      "text/html": [
       "<div>\n",
       "<style scoped>\n",
       "    .dataframe tbody tr th:only-of-type {\n",
       "        vertical-align: middle;\n",
       "    }\n",
       "\n",
       "    .dataframe tbody tr th {\n",
       "        vertical-align: top;\n",
       "    }\n",
       "\n",
       "    .dataframe thead th {\n",
       "        text-align: right;\n",
       "    }\n",
       "</style>\n",
       "<table border=\"1\" class=\"dataframe\">\n",
       "  <thead>\n",
       "    <tr style=\"text-align: right;\">\n",
       "      <th></th>\n",
       "      <th></th>\n",
       "      <th></th>\n",
       "      <th>MM</th>\n",
       "      <th>DD</th>\n",
       "      <th>2m_temp_max</th>\n",
       "      <th>2m_temp_mean</th>\n",
       "      <th>2m_temp_min</th>\n",
       "      <th>2m_dp_temp_max</th>\n",
       "      <th>2m_dp_temp_mean</th>\n",
       "      <th>2m_dp_temp_min</th>\n",
       "      <th>10m_wind_u</th>\n",
       "      <th>10m_wind_v</th>\n",
       "      <th>...</th>\n",
       "      <th>swe</th>\n",
       "      <th>surf_net_solar_rad_max</th>\n",
       "      <th>surf_net_solar_rad_mean</th>\n",
       "      <th>surf_net_therm_rad_max</th>\n",
       "      <th>surf_net_therm_rad_mean</th>\n",
       "      <th>surf_press</th>\n",
       "      <th>total_et</th>\n",
       "      <th>prec</th>\n",
       "      <th>volsw_123</th>\n",
       "      <th>volsw_4</th>\n",
       "    </tr>\n",
       "    <tr>\n",
       "      <th>location</th>\n",
       "      <th>YYYY</th>\n",
       "      <th>DOY</th>\n",
       "      <th></th>\n",
       "      <th></th>\n",
       "      <th></th>\n",
       "      <th></th>\n",
       "      <th></th>\n",
       "      <th></th>\n",
       "      <th></th>\n",
       "      <th></th>\n",
       "      <th></th>\n",
       "      <th></th>\n",
       "      <th></th>\n",
       "      <th></th>\n",
       "      <th></th>\n",
       "      <th></th>\n",
       "      <th></th>\n",
       "      <th></th>\n",
       "      <th></th>\n",
       "      <th></th>\n",
       "      <th></th>\n",
       "      <th></th>\n",
       "      <th></th>\n",
       "    </tr>\n",
       "  </thead>\n",
       "  <tbody>\n",
       "    <tr>\n",
       "      <th rowspan=\"5\" valign=\"top\">ID_825</th>\n",
       "      <th rowspan=\"5\" valign=\"top\">1981</th>\n",
       "      <th>1</th>\n",
       "      <td>1</td>\n",
       "      <td>1</td>\n",
       "      <td>2.0</td>\n",
       "      <td>-0.5</td>\n",
       "      <td>-3.1</td>\n",
       "      <td>-0.6</td>\n",
       "      <td>-3.3</td>\n",
       "      <td>-6.8</td>\n",
       "      <td>5.7</td>\n",
       "      <td>0.3</td>\n",
       "      <td>...</td>\n",
       "      <td>6.28</td>\n",
       "      <td>131</td>\n",
       "      <td>22</td>\n",
       "      <td>75</td>\n",
       "      <td>39</td>\n",
       "      <td>93077.0</td>\n",
       "      <td>0.82</td>\n",
       "      <td>4.69</td>\n",
       "      <td>0.40</td>\n",
       "      <td>0.39</td>\n",
       "    </tr>\n",
       "    <tr>\n",
       "      <th>2</th>\n",
       "      <td>1</td>\n",
       "      <td>2</td>\n",
       "      <td>-0.7</td>\n",
       "      <td>-2.6</td>\n",
       "      <td>-3.7</td>\n",
       "      <td>-1.6</td>\n",
       "      <td>-5.0</td>\n",
       "      <td>-6.8</td>\n",
       "      <td>4.1</td>\n",
       "      <td>-0.4</td>\n",
       "      <td>...</td>\n",
       "      <td>9.14</td>\n",
       "      <td>142</td>\n",
       "      <td>25</td>\n",
       "      <td>76</td>\n",
       "      <td>39</td>\n",
       "      <td>93273.0</td>\n",
       "      <td>0.32</td>\n",
       "      <td>6.14</td>\n",
       "      <td>0.39</td>\n",
       "      <td>0.39</td>\n",
       "    </tr>\n",
       "    <tr>\n",
       "      <th>3</th>\n",
       "      <td>1</td>\n",
       "      <td>3</td>\n",
       "      <td>2.8</td>\n",
       "      <td>1.4</td>\n",
       "      <td>-0.5</td>\n",
       "      <td>1.2</td>\n",
       "      <td>0.3</td>\n",
       "      <td>-1.4</td>\n",
       "      <td>5.6</td>\n",
       "      <td>0.9</td>\n",
       "      <td>...</td>\n",
       "      <td>17.17</td>\n",
       "      <td>60</td>\n",
       "      <td>10</td>\n",
       "      <td>53</td>\n",
       "      <td>12</td>\n",
       "      <td>91853.0</td>\n",
       "      <td>0.18</td>\n",
       "      <td>14.38</td>\n",
       "      <td>0.39</td>\n",
       "      <td>0.39</td>\n",
       "    </tr>\n",
       "    <tr>\n",
       "      <th>4</th>\n",
       "      <td>1</td>\n",
       "      <td>4</td>\n",
       "      <td>0.4</td>\n",
       "      <td>-0.7</td>\n",
       "      <td>-2.5</td>\n",
       "      <td>-1.2</td>\n",
       "      <td>-2.0</td>\n",
       "      <td>-3.5</td>\n",
       "      <td>4.0</td>\n",
       "      <td>0.0</td>\n",
       "      <td>...</td>\n",
       "      <td>18.10</td>\n",
       "      <td>88</td>\n",
       "      <td>17</td>\n",
       "      <td>72</td>\n",
       "      <td>38</td>\n",
       "      <td>91827.0</td>\n",
       "      <td>0.27</td>\n",
       "      <td>4.47</td>\n",
       "      <td>0.40</td>\n",
       "      <td>0.39</td>\n",
       "    </tr>\n",
       "    <tr>\n",
       "      <th>5</th>\n",
       "      <td>1</td>\n",
       "      <td>5</td>\n",
       "      <td>-2.6</td>\n",
       "      <td>-5.0</td>\n",
       "      <td>-6.6</td>\n",
       "      <td>-3.7</td>\n",
       "      <td>-6.6</td>\n",
       "      <td>-9.1</td>\n",
       "      <td>2.1</td>\n",
       "      <td>-2.0</td>\n",
       "      <td>...</td>\n",
       "      <td>20.18</td>\n",
       "      <td>59</td>\n",
       "      <td>12</td>\n",
       "      <td>71</td>\n",
       "      <td>36</td>\n",
       "      <td>92530.0</td>\n",
       "      <td>0.13</td>\n",
       "      <td>1.93</td>\n",
       "      <td>0.40</td>\n",
       "      <td>0.39</td>\n",
       "    </tr>\n",
       "  </tbody>\n",
       "</table>\n",
       "<p>5 rows × 23 columns</p>\n",
       "</div>"
      ]
     },
     "execution_count": 2,
     "metadata": {},
     "output_type": "execute_result"
    }
   ],
   "execution_count": 2
  },
  {
   "cell_type": "markdown",
   "metadata": {},
   "source": [
    "### 2. Null Value Analysis\n",
    "\n",
    "For this analysis we will first look for NaN or NULL values and afterwards for values equal to 0, which could also potentially indicate data errors."
   ]
  },
  {
   "cell_type": "code",
   "metadata": {
    "ExecuteTime": {
     "end_time": "2025-01-02T12:33:39.725381Z",
     "start_time": "2025-01-02T12:33:39.699689Z"
    }
   },
   "source": [
    "missing_values = data.isnull().sum()\n",
    "missing_values[missing_values > 0]"
   ],
   "outputs": [
    {
     "data": {
      "text/plain": [
       "Series([], dtype: int64)"
      ]
     },
     "execution_count": 3,
     "metadata": {},
     "output_type": "execute_result"
    }
   ],
   "execution_count": 3
  },
  {
   "cell_type": "code",
   "metadata": {
    "ExecuteTime": {
     "end_time": "2025-01-02T12:33:39.800320Z",
     "start_time": "2025-01-02T12:33:39.771638Z"
    }
   },
   "source": [
    "zero_values = (data == 0).sum()\n",
    "zero_values[zero_values > 0]"
   ],
   "outputs": [
    {
     "data": {
      "text/plain": [
       "2m_temp_max                  4114\n",
       "2m_temp_mean                 5747\n",
       "2m_temp_min                  6877\n",
       "2m_dp_temp_max               6062\n",
       "2m_dp_temp_mean              6426\n",
       "2m_dp_temp_min               5965\n",
       "10m_wind_u                  78934\n",
       "10m_wind_v                  63665\n",
       "swe                        638424\n",
       "surf_net_solar_rad_mean         1\n",
       "surf_net_therm_rad_max        112\n",
       "surf_net_therm_rad_mean      1653\n",
       "total_et                    32016\n",
       "prec                       278359\n",
       "dtype: int64"
      ]
     },
     "execution_count": 4,
     "metadata": {},
     "output_type": "execute_result"
    }
   ],
   "execution_count": 4
  },
  {
   "cell_type": "markdown",
   "metadata": {},
   "source": [
    "There are no missing values in the data, but there is a significant amount of values equal to 0. We need to check wether they occur naturally, like in \"prec\" as there are of course many days without precipitation, or they are misleading values. We can do this by looking at the distribution of the variables and by checking if there are very long periods with continously 0 values, which could indicate an error in data generation or collection."
   ]
  },
  {
   "cell_type": "code",
   "metadata": {
    "ExecuteTime": {
     "end_time": "2025-01-02T12:33:40.116298Z",
     "start_time": "2025-01-02T12:33:39.829631Z"
    }
   },
   "source": [
    "data['2m_temp_min'].hist(bins=50, alpha=0.7)\n",
    "data['2m_temp_max'].hist(bins=50, alpha=0.7)\n",
    "data['2m_temp_mean'].hist(bins=50, alpha=0.7)\n",
    "\n",
    "# data['2m_dp_temp_min'].hist(bins=50, alpha=0.7)\n",
    "# data['2m_dp_temp_max'].hist(bins=50, alpha=0.7)\n",
    "# data['2m_dp_temp_mean'].hist(bins=50, alpha=0.7)\n",
    "\n",
    "# data['10m_wind_u'].hist(bins=50, alpha=0.7)\n",
    "# data['10m_wind_v'].hist(bins=50, alpha=0.7)\n",
    "\n",
    "# data['surf_net_therm_rad_max'].hist(bins=50, alpha=0.7)\n",
    "# data['surf_net_therm_rad_mean'].hist(bins=50, alpha=0.7)\n",
    "\n",
    "# data['prec'].hist(bins=50, alpha=0.7)\n"
   ],
   "outputs": [
    {
     "data": {
      "text/plain": [
       "<Axes: >"
      ]
     },
     "execution_count": 5,
     "metadata": {},
     "output_type": "execute_result"
    },
    {
     "data": {
      "text/plain": [
       "<Figure size 640x480 with 1 Axes>"
      ],
      "image/png": "[encoded data removed]"
     },
     "metadata": {},
     "output_type": "display_data"
    }
   ],
   "execution_count": 5
  },
  {
   "cell_type": "markdown",
   "metadata": {},
   "source": [
    "For all the above visualized attributes (also those which are commented out), the 0 values do not stand out of the distribution. We therefore conclude that the values occur naturally and are not indicating errors in the data. This assumption also aligns with the meaning of the data attributes, where 0 values are typically present in a natural environment."
   ]
  },
  {
   "cell_type": "code",
   "metadata": {
    "ExecuteTime": {
     "end_time": "2025-01-02T12:33:40.278288Z",
     "start_time": "2025-01-02T12:33:40.147464Z"
    }
   },
   "source": [
    "data['lai_low_veg'].hist(bins=50, alpha=0.7)\n"
   ],
   "outputs": [
    {
     "data": {
      "text/plain": [
       "<Axes: >"
      ]
     },
     "execution_count": 6,
     "metadata": {},
     "output_type": "execute_result"
    },
    {
     "data": {
      "text/plain": [
       "<Figure size 640x480 with 1 Axes>"
      ],
      "image/png": "[encoded data removed]"
     },
     "metadata": {},
     "output_type": "display_data"
    }
   ],
   "execution_count": 6
  },
  {
   "cell_type": "markdown",
   "metadata": {},
   "source": [
    "The data attribute \"lai_low_veg\" represents the Leaf Area Index (LAI) of low vegetation. In natural environments, especially in regions with seasonal vegetation or during certain times of the year when low vegetation is not present or has shed its leaves, it is possible to have periods where the LAI is zero. Therefore, 0 values in the \"lai_low_veg\" attribute can be expected and are not necessarily indicative of data errors."
   ]
  },
  {
   "cell_type": "code",
   "metadata": {
    "ExecuteTime": {
     "end_time": "2025-01-02T12:33:40.500653Z",
     "start_time": "2025-01-02T12:33:40.331337Z"
    }
   },
   "source": [
    "data['swe'].hist(bins=100, alpha=0.7)"
   ],
   "outputs": [
    {
     "data": {
      "text/plain": [
       "<Axes: >"
      ]
     },
     "execution_count": 7,
     "metadata": {},
     "output_type": "execute_result"
    },
    {
     "data": {
      "text/plain": [
       "<Figure size 640x480 with 1 Axes>"
      ],
      "image/png": "[encoded data removed]"
     },
     "metadata": {},
     "output_type": "display_data"
    }
   ],
   "execution_count": 7
  },
  {
   "cell_type": "markdown",
   "metadata": {},
   "source": [
    "The \"swe\" attribute represents the Snow Water Equivalent, which is the amount of water contained within the snowpack. In regions and periods without snow, it is natural to have 0 values for \"swe\". Therefore, these values are not indicative of data errors."
   ]
  },
  {
   "cell_type": "code",
   "metadata": {
    "ExecuteTime": {
     "end_time": "2025-01-02T12:33:40.658356Z",
     "start_time": "2025-01-02T12:33:40.515546Z"
    }
   },
   "source": [
    "data['total_et'].hist(bins=50, alpha=0.7)"
   ],
   "outputs": [
    {
     "data": {
      "text/plain": [
       "<Axes: >"
      ]
     },
     "execution_count": 8,
     "metadata": {},
     "output_type": "execute_result"
    },
    {
     "data": {
      "text/plain": [
       "<Figure size 640x480 with 1 Axes>"
      ],
      "image/png": "[encoded data removed]"
     },
     "metadata": {},
     "output_type": "display_data"
    }
   ],
   "execution_count": 8
  },
  {
   "cell_type": "markdown",
   "metadata": {},
   "source": [
    "The \"total_et\" attribute represents the total evapotranspiration. In natural environments, especially during times when there is no vegetation or during periods of dormancy in vegetation, 0 values can be expected.\n",
    "\n",
    "Finally, we will check if there are periods with extraordinary many 0 values in the data. We do this with a rolling window of 365 days and look for 30 0-values or more."
   ]
  },
  {
   "cell_type": "code",
   "metadata": {
    "ExecuteTime": {
     "end_time": "2025-01-02T12:33:41.212708Z",
     "start_time": "2025-01-02T12:33:40.677617Z"
    }
   },
   "source": [
    "zero_values = data.eq(0).rolling(365).sum()\n",
    "zero_values[zero_values > 30].dropna()"
   ],
   "outputs": [
    {
     "data": {
      "text/plain": [
       "Empty DataFrame\n",
       "Columns: [MM, DD, 2m_temp_max, 2m_temp_mean, 2m_temp_min, 2m_dp_temp_max, 2m_dp_temp_mean, 2m_dp_temp_min, 10m_wind_u, 10m_wind_v, fcst_alb, lai_high_veg, lai_low_veg, swe, surf_net_solar_rad_max, surf_net_solar_rad_mean, surf_net_therm_rad_max, surf_net_therm_rad_mean, surf_press, total_et, prec, volsw_123, volsw_4]\n",
       "Index: []\n",
       "\n",
       "[0 rows x 23 columns]"
      ],
      "text/html": [
       "<div>\n",
       "<style scoped>\n",
       "    .dataframe tbody tr th:only-of-type {\n",
       "        vertical-align: middle;\n",
       "    }\n",
       "\n",
       "    .dataframe tbody tr th {\n",
       "        vertical-align: top;\n",
       "    }\n",
       "\n",
       "    .dataframe thead th {\n",
       "        text-align: right;\n",
       "    }\n",
       "</style>\n",
       "<table border=\"1\" class=\"dataframe\">\n",
       "  <thead>\n",
       "    <tr style=\"text-align: right;\">\n",
       "      <th></th>\n",
       "      <th></th>\n",
       "      <th></th>\n",
       "      <th>MM</th>\n",
       "      <th>DD</th>\n",
       "      <th>2m_temp_max</th>\n",
       "      <th>2m_temp_mean</th>\n",
       "      <th>2m_temp_min</th>\n",
       "      <th>2m_dp_temp_max</th>\n",
       "      <th>2m_dp_temp_mean</th>\n",
       "      <th>2m_dp_temp_min</th>\n",
       "      <th>10m_wind_u</th>\n",
       "      <th>10m_wind_v</th>\n",
       "      <th>...</th>\n",
       "      <th>swe</th>\n",
       "      <th>surf_net_solar_rad_max</th>\n",
       "      <th>surf_net_solar_rad_mean</th>\n",
       "      <th>surf_net_therm_rad_max</th>\n",
       "      <th>surf_net_therm_rad_mean</th>\n",
       "      <th>surf_press</th>\n",
       "      <th>total_et</th>\n",
       "      <th>prec</th>\n",
       "      <th>volsw_123</th>\n",
       "      <th>volsw_4</th>\n",
       "    </tr>\n",
       "    <tr>\n",
       "      <th>location</th>\n",
       "      <th>YYYY</th>\n",
       "      <th>DOY</th>\n",
       "      <th></th>\n",
       "      <th></th>\n",
       "      <th></th>\n",
       "      <th></th>\n",
       "      <th></th>\n",
       "      <th></th>\n",
       "      <th></th>\n",
       "      <th></th>\n",
       "      <th></th>\n",
       "      <th></th>\n",
       "      <th></th>\n",
       "      <th></th>\n",
       "      <th></th>\n",
       "      <th></th>\n",
       "      <th></th>\n",
       "      <th></th>\n",
       "      <th></th>\n",
       "      <th></th>\n",
       "      <th></th>\n",
       "      <th></th>\n",
       "      <th></th>\n",
       "    </tr>\n",
       "  </thead>\n",
       "  <tbody>\n",
       "  </tbody>\n",
       "</table>\n",
       "<p>0 rows × 23 columns</p>\n",
       "</div>"
      ]
     },
     "execution_count": 9,
     "metadata": {},
     "output_type": "execute_result"
    }
   ],
   "execution_count": 9
  },
  {
   "cell_type": "markdown",
   "metadata": {},
   "source": [
    "As this is not the case, we conclude that all 0-values in the dataset occur naturally. Therefore, we will not remove them.\n",
    "\n",
    "### 3. Statistical Analysis\n",
    "\n",
    "We had already a first look into the distribution of the datasets. As a next step we want to get a better understanding of the key statistics and the correlations of the data attributes"
   ]
  },
  {
   "cell_type": "code",
   "metadata": {
    "ExecuteTime": {
     "end_time": "2025-01-02T12:33:41.670919Z",
     "start_time": "2025-01-02T12:33:41.316444Z"
    }
   },
   "source": [
    "data.iloc[:, 2:13].describe()"
   ],
   "outputs": [
    {
     "data": {
      "text/plain": [
       "        2m_temp_max  2m_temp_mean   2m_temp_min  2m_dp_temp_max  \\\n",
       "count  1.424400e+06  1.424400e+06  1.424400e+06    1.424400e+06   \n",
       "mean   1.016285e+01  6.011266e+00  1.899017e+00    4.616621e+00   \n",
       "std    9.103328e+00  8.615848e+00  8.301752e+00    7.864368e+00   \n",
       "min   -2.520000e+01 -3.000000e+01 -3.750000e+01   -3.520000e+01   \n",
       "25%    3.100000e+00 -2.000000e-01 -3.300000e+00   -8.000000e-01   \n",
       "50%    1.020000e+01  6.100000e+00  2.100000e+00    5.100000e+00   \n",
       "75%    1.730000e+01  1.280000e+01  8.300000e+00    1.080000e+01   \n",
       "max    3.690000e+01  2.970000e+01  2.420000e+01    2.430000e+01   \n",
       "\n",
       "       2m_dp_temp_mean  2m_dp_temp_min    10m_wind_u    10m_wind_v  \\\n",
       "count     1.424400e+06    1.424400e+06  1.424400e+06  1.424400e+06   \n",
       "mean      2.283953e+00   -2.210727e-01  4.429695e-01  4.652282e-02   \n",
       "std       8.085294e+00    8.560271e+00  1.487496e+00  1.125252e+00   \n",
       "min      -3.780000e+01   -4.260000e+01 -6.500000e+00 -8.000000e+00   \n",
       "25%      -3.100000e+00   -5.600000e+00 -3.000000e-01 -6.000000e-01   \n",
       "50%       2.800000e+00    5.000000e-01  2.000000e-01  1.000000e-01   \n",
       "75%       8.600000e+00    6.400000e+00  1.100000e+00  7.000000e-01   \n",
       "max       2.110000e+01    2.000000e+01  8.900000e+00  7.400000e+00   \n",
       "\n",
       "           fcst_alb  lai_high_veg   lai_low_veg  \n",
       "count  1.424400e+06  1.424400e+06  1.424400e+06  \n",
       "mean   2.397808e-01  2.493411e+00  1.886978e+00  \n",
       "std    1.488517e-01  9.446002e-01  7.504262e-01  \n",
       "min    7.000000e-02  7.000000e-01  3.000000e-01  \n",
       "25%    1.400000e-01  1.700000e+00  1.300000e+00  \n",
       "50%    1.700000e-01  2.500000e+00  2.100000e+00  \n",
       "75%    3.500000e-01  3.200000e+00  2.500000e+00  \n",
       "max    8.400000e-01  4.900000e+00  3.300000e+00  "
      ],
      "text/html": [
       "<div>\n",
       "<style scoped>\n",
       "    .dataframe tbody tr th:only-of-type {\n",
       "        vertical-align: middle;\n",
       "    }\n",
       "\n",
       "    .dataframe tbody tr th {\n",
       "        vertical-align: top;\n",
       "    }\n",
       "\n",
       "    .dataframe thead th {\n",
       "        text-align: right;\n",
       "    }\n",
       "</style>\n",
       "<table border=\"1\" class=\"dataframe\">\n",
       "  <thead>\n",
       "    <tr style=\"text-align: right;\">\n",
       "      <th></th>\n",
       "      <th>2m_temp_max</th>\n",
       "      <th>2m_temp_mean</th>\n",
       "      <th>2m_temp_min</th>\n",
       "      <th>2m_dp_temp_max</th>\n",
       "      <th>2m_dp_temp_mean</th>\n",
       "      <th>2m_dp_temp_min</th>\n",
       "      <th>10m_wind_u</th>\n",
       "      <th>10m_wind_v</th>\n",
       "      <th>fcst_alb</th>\n",
       "      <th>lai_high_veg</th>\n",
       "      <th>lai_low_veg</th>\n",
       "    </tr>\n",
       "  </thead>\n",
       "  <tbody>\n",
       "    <tr>\n",
       "      <th>count</th>\n",
       "      <td>1.424400e+06</td>\n",
       "      <td>1.424400e+06</td>\n",
       "      <td>1.424400e+06</td>\n",
       "      <td>1.424400e+06</td>\n",
       "      <td>1.424400e+06</td>\n",
       "      <td>1.424400e+06</td>\n",
       "      <td>1.424400e+06</td>\n",
       "      <td>1.424400e+06</td>\n",
       "      <td>1.424400e+06</td>\n",
       "      <td>1.424400e+06</td>\n",
       "      <td>1.424400e+06</td>\n",
       "    </tr>\n",
       "    <tr>\n",
       "      <th>mean</th>\n",
       "      <td>1.016285e+01</td>\n",
       "      <td>6.011266e+00</td>\n",
       "      <td>1.899017e+00</td>\n",
       "      <td>4.616621e+00</td>\n",
       "      <td>2.283953e+00</td>\n",
       "      <td>-2.210727e-01</td>\n",
       "      <td>4.429695e-01</td>\n",
       "      <td>4.652282e-02</td>\n",
       "      <td>2.397808e-01</td>\n",
       "      <td>2.493411e+00</td>\n",
       "      <td>1.886978e+00</td>\n",
       "    </tr>\n",
       "    <tr>\n",
       "      <th>std</th>\n",
       "      <td>9.103328e+00</td>\n",
       "      <td>8.615848e+00</td>\n",
       "      <td>8.301752e+00</td>\n",
       "      <td>7.864368e+00</td>\n",
       "      <td>8.085294e+00</td>\n",
       "      <td>8.560271e+00</td>\n",
       "      <td>1.487496e+00</td>\n",
       "      <td>1.125252e+00</td>\n",
       "      <td>1.488517e-01</td>\n",
       "      <td>9.446002e-01</td>\n",
       "      <td>7.504262e-01</td>\n",
       "    </tr>\n",
       "    <tr>\n",
       "      <th>min</th>\n",
       "      <td>-2.520000e+01</td>\n",
       "      <td>-3.000000e+01</td>\n",
       "      <td>-3.750000e+01</td>\n",
       "      <td>-3.520000e+01</td>\n",
       "      <td>-3.780000e+01</td>\n",
       "      <td>-4.260000e+01</td>\n",
       "      <td>-6.500000e+00</td>\n",
       "      <td>-8.000000e+00</td>\n",
       "      <td>7.000000e-02</td>\n",
       "      <td>7.000000e-01</td>\n",
       "      <td>3.000000e-01</td>\n",
       "    </tr>\n",
       "    <tr>\n",
       "      <th>25%</th>\n",
       "      <td>3.100000e+00</td>\n",
       "      <td>-2.000000e-01</td>\n",
       "      <td>-3.300000e+00</td>\n",
       "      <td>-8.000000e-01</td>\n",
       "      <td>-3.100000e+00</td>\n",
       "      <td>-5.600000e+00</td>\n",
       "      <td>-3.000000e-01</td>\n",
       "      <td>-6.000000e-01</td>\n",
       "      <td>1.400000e-01</td>\n",
       "      <td>1.700000e+00</td>\n",
       "      <td>1.300000e+00</td>\n",
       "    </tr>\n",
       "    <tr>\n",
       "      <th>50%</th>\n",
       "      <td>1.020000e+01</td>\n",
       "      <td>6.100000e+00</td>\n",
       "      <td>2.100000e+00</td>\n",
       "      <td>5.100000e+00</td>\n",
       "      <td>2.800000e+00</td>\n",
       "      <td>5.000000e-01</td>\n",
       "      <td>2.000000e-01</td>\n",
       "      <td>1.000000e-01</td>\n",
       "      <td>1.700000e-01</td>\n",
       "      <td>2.500000e+00</td>\n",
       "      <td>2.100000e+00</td>\n",
       "    </tr>\n",
       "    <tr>\n",
       "      <th>75%</th>\n",
       "      <td>1.730000e+01</td>\n",
       "      <td>1.280000e+01</td>\n",
       "      <td>8.300000e+00</td>\n",
       "      <td>1.080000e+01</td>\n",
       "      <td>8.600000e+00</td>\n",
       "      <td>6.400000e+00</td>\n",
       "      <td>1.100000e+00</td>\n",
       "      <td>7.000000e-01</td>\n",
       "      <td>3.500000e-01</td>\n",
       "      <td>3.200000e+00</td>\n",
       "      <td>2.500000e+00</td>\n",
       "    </tr>\n",
       "    <tr>\n",
       "      <th>max</th>\n",
       "      <td>3.690000e+01</td>\n",
       "      <td>2.970000e+01</td>\n",
       "      <td>2.420000e+01</td>\n",
       "      <td>2.430000e+01</td>\n",
       "      <td>2.110000e+01</td>\n",
       "      <td>2.000000e+01</td>\n",
       "      <td>8.900000e+00</td>\n",
       "      <td>7.400000e+00</td>\n",
       "      <td>8.400000e-01</td>\n",
       "      <td>4.900000e+00</td>\n",
       "      <td>3.300000e+00</td>\n",
       "    </tr>\n",
       "  </tbody>\n",
       "</table>\n",
       "</div>"
      ]
     },
     "execution_count": 10,
     "metadata": {},
     "output_type": "execute_result"
    }
   ],
   "execution_count": 10
  },
  {
   "cell_type": "markdown",
   "metadata": {},
   "source": [
    "Temperature has its minimum at -37°C and maximum at +37°C, with a mean of +6.2°C. Average wind speed is a bit higher towards east 0.42 m/s compared to north 0.06 m/s, where also the maximum wind speed was measured at 8.9 m/s in eastern direction."
   ]
  },
  {
   "cell_type": "code",
   "metadata": {
    "ExecuteTime": {
     "end_time": "2025-01-02T12:33:42.021252Z",
     "start_time": "2025-01-02T12:33:41.707376Z"
    }
   },
   "source": [
    "data.iloc[:, 13:].describe()"
   ],
   "outputs": [
    {
     "data": {
      "text/plain": [
       "                swe  surf_net_solar_rad_max  surf_net_solar_rad_mean  \\\n",
       "count  1.424400e+06            1.424400e+06             1.424400e+06   \n",
       "mean   1.611395e+02            3.702651e+02             1.092048e+02   \n",
       "std    6.095234e+02            1.947385e+02             7.148140e+01   \n",
       "min    0.000000e+00            3.000000e+00             0.000000e+00   \n",
       "25%    0.000000e+00            1.980000e+02             4.500000e+01   \n",
       "50%    2.600000e-01            3.560000e+02             9.600000e+01   \n",
       "75%    4.423000e+01            5.380000e+02             1.680000e+02   \n",
       "max    5.173980e+03            8.540000e+02             3.100000e+02   \n",
       "\n",
       "       surf_net_therm_rad_max  surf_net_therm_rad_mean    surf_press  \\\n",
       "count            1.424400e+06             1.424400e+06  1.424400e+06   \n",
       "mean             8.165145e+01             4.927161e+01  9.071267e+04   \n",
       "std              2.691885e+01             2.226359e+01  6.226311e+03   \n",
       "min             -2.000000e+01            -3.400000e+01  7.223900e+04   \n",
       "25%              6.400000e+01             3.300000e+01  8.576400e+04   \n",
       "50%              8.400000e+01             5.000000e+01  9.336900e+04   \n",
       "75%              1.010000e+02             6.600000e+01  9.546900e+04   \n",
       "max              1.840000e+02             1.190000e+02  1.012320e+05   \n",
       "\n",
       "           total_et          prec     volsw_123       volsw_4  \n",
       "count  1.424400e+06  1.424400e+06  1.424400e+06  1.424400e+06  \n",
       "mean   1.432721e+00  3.330740e+00  3.612044e-01  3.858512e-01  \n",
       "std    1.313262e+00  5.548652e+00  5.557345e-02  5.029208e-02  \n",
       "min   -1.720000e+00  0.000000e+00  1.200000e-01  2.200000e-01  \n",
       "25%    2.400000e-01  4.000000e-02  3.300000e-01  3.600000e-01  \n",
       "50%    1.040000e+00  8.900000e-01  3.700000e-01  3.900000e-01  \n",
       "75%    2.500000e+00  4.370000e+00  3.900000e-01  4.100000e-01  \n",
       "max    7.560000e+00  1.185600e+02  6.700000e-01  6.700000e-01  "
      ],
      "text/html": [
       "<div>\n",
       "<style scoped>\n",
       "    .dataframe tbody tr th:only-of-type {\n",
       "        vertical-align: middle;\n",
       "    }\n",
       "\n",
       "    .dataframe tbody tr th {\n",
       "        vertical-align: top;\n",
       "    }\n",
       "\n",
       "    .dataframe thead th {\n",
       "        text-align: right;\n",
       "    }\n",
       "</style>\n",
       "<table border=\"1\" class=\"dataframe\">\n",
       "  <thead>\n",
       "    <tr style=\"text-align: right;\">\n",
       "      <th></th>\n",
       "      <th>swe</th>\n",
       "      <th>surf_net_solar_rad_max</th>\n",
       "      <th>surf_net_solar_rad_mean</th>\n",
       "      <th>surf_net_therm_rad_max</th>\n",
       "      <th>surf_net_therm_rad_mean</th>\n",
       "      <th>surf_press</th>\n",
       "      <th>total_et</th>\n",
       "      <th>prec</th>\n",
       "      <th>volsw_123</th>\n",
       "      <th>volsw_4</th>\n",
       "    </tr>\n",
       "  </thead>\n",
       "  <tbody>\n",
       "    <tr>\n",
       "      <th>count</th>\n",
       "      <td>1.424400e+06</td>\n",
       "      <td>1.424400e+06</td>\n",
       "      <td>1.424400e+06</td>\n",
       "      <td>1.424400e+06</td>\n",
       "      <td>1.424400e+06</td>\n",
       "      <td>1.424400e+06</td>\n",
       "      <td>1.424400e+06</td>\n",
       "      <td>1.424400e+06</td>\n",
       "      <td>1.424400e+06</td>\n",
       "      <td>1.424400e+06</td>\n",
       "    </tr>\n",
       "    <tr>\n",
       "      <th>mean</th>\n",
       "      <td>1.611395e+02</td>\n",
       "      <td>3.702651e+02</td>\n",
       "      <td>1.092048e+02</td>\n",
       "      <td>8.165145e+01</td>\n",
       "      <td>4.927161e+01</td>\n",
       "      <td>9.071267e+04</td>\n",
       "      <td>1.432721e+00</td>\n",
       "      <td>3.330740e+00</td>\n",
       "      <td>3.612044e-01</td>\n",
       "      <td>3.858512e-01</td>\n",
       "    </tr>\n",
       "    <tr>\n",
       "      <th>std</th>\n",
       "      <td>6.095234e+02</td>\n",
       "      <td>1.947385e+02</td>\n",
       "      <td>7.148140e+01</td>\n",
       "      <td>2.691885e+01</td>\n",
       "      <td>2.226359e+01</td>\n",
       "      <td>6.226311e+03</td>\n",
       "      <td>1.313262e+00</td>\n",
       "      <td>5.548652e+00</td>\n",
       "      <td>5.557345e-02</td>\n",
       "      <td>5.029208e-02</td>\n",
       "    </tr>\n",
       "    <tr>\n",
       "      <th>min</th>\n",
       "      <td>0.000000e+00</td>\n",
       "      <td>3.000000e+00</td>\n",
       "      <td>0.000000e+00</td>\n",
       "      <td>-2.000000e+01</td>\n",
       "      <td>-3.400000e+01</td>\n",
       "      <td>7.223900e+04</td>\n",
       "      <td>-1.720000e+00</td>\n",
       "      <td>0.000000e+00</td>\n",
       "      <td>1.200000e-01</td>\n",
       "      <td>2.200000e-01</td>\n",
       "    </tr>\n",
       "    <tr>\n",
       "      <th>25%</th>\n",
       "      <td>0.000000e+00</td>\n",
       "      <td>1.980000e+02</td>\n",
       "      <td>4.500000e+01</td>\n",
       "      <td>6.400000e+01</td>\n",
       "      <td>3.300000e+01</td>\n",
       "      <td>8.576400e+04</td>\n",
       "      <td>2.400000e-01</td>\n",
       "      <td>4.000000e-02</td>\n",
       "      <td>3.300000e-01</td>\n",
       "      <td>3.600000e-01</td>\n",
       "    </tr>\n",
       "    <tr>\n",
       "      <th>50%</th>\n",
       "      <td>2.600000e-01</td>\n",
       "      <td>3.560000e+02</td>\n",
       "      <td>9.600000e+01</td>\n",
       "      <td>8.400000e+01</td>\n",
       "      <td>5.000000e+01</td>\n",
       "      <td>9.336900e+04</td>\n",
       "      <td>1.040000e+00</td>\n",
       "      <td>8.900000e-01</td>\n",
       "      <td>3.700000e-01</td>\n",
       "      <td>3.900000e-01</td>\n",
       "    </tr>\n",
       "    <tr>\n",
       "      <th>75%</th>\n",
       "      <td>4.423000e+01</td>\n",
       "      <td>5.380000e+02</td>\n",
       "      <td>1.680000e+02</td>\n",
       "      <td>1.010000e+02</td>\n",
       "      <td>6.600000e+01</td>\n",
       "      <td>9.546900e+04</td>\n",
       "      <td>2.500000e+00</td>\n",
       "      <td>4.370000e+00</td>\n",
       "      <td>3.900000e-01</td>\n",
       "      <td>4.100000e-01</td>\n",
       "    </tr>\n",
       "    <tr>\n",
       "      <th>max</th>\n",
       "      <td>5.173980e+03</td>\n",
       "      <td>8.540000e+02</td>\n",
       "      <td>3.100000e+02</td>\n",
       "      <td>1.840000e+02</td>\n",
       "      <td>1.190000e+02</td>\n",
       "      <td>1.012320e+05</td>\n",
       "      <td>7.560000e+00</td>\n",
       "      <td>1.185600e+02</td>\n",
       "      <td>6.700000e-01</td>\n",
       "      <td>6.700000e-01</td>\n",
       "    </tr>\n",
       "  </tbody>\n",
       "</table>\n",
       "</div>"
      ]
     },
     "execution_count": 11,
     "metadata": {},
     "output_type": "execute_result"
    }
   ],
   "execution_count": 11
  },
  {
   "cell_type": "markdown",
   "metadata": {},
   "source": [
    "The target variable 'prec', representing the total amount of precipitation, hexhibits a mean value of $3.57$ mm, a maximum value of $125.27$ mm, and a minimum of $0$ mm, as obviously there are days without precipitation. In general, there seems to be quite a large range of recorded precipitation values.\n",
    "\n",
    "(The variables 'volsw_123' and 'volsw_4', representing the fraction of water in the topsoil and subsoil layers respectively, exhibit similar statistics. The mean values are $0.36 m^3m^{-3}$ for 'volsw_123' and $0.39 m^3m^{-3}$ for 'volsw_4'. Both variables have a maximum value of $0.52 m^3m^{-3}$, which appears to be the maximum water-holding capacity of the soil in these examples. The minimum values are $0.11 m^3m^{-3}$ for the topsoil layer ('volsw_123') and $0.21 m^3m^{-3}$ for the subsoil layer ('volsw_4'), suggesting that the topsoil layer dries out more quickly.)\n",
    "\n",
    "All values above, especially the minimum and maximum values seem to be in a reasonable range. Therefore, no outlier removal will be necessary.\n",
    "\n",
    "As a next step, we want to investigate if and to what extend the different data attributes correlate with each other."
   ]
  },
  {
   "cell_type": "code",
   "metadata": {
    "ExecuteTime": {
     "end_time": "2025-01-02T12:33:43.362509Z",
     "start_time": "2025-01-02T12:33:42.097764Z"
    }
   },
   "source": [
    "corr = data.iloc[:, 2:].corr()\n",
    "\n",
    "k=1\n",
    "print(\"Pairs with correlation >= 0.8:\")\n",
    "for i in range(corr.shape[0]):\n",
    "    for j in range(i+1, corr.shape[0]):\n",
    "        if corr.iloc[i, j] >= 0.8:\n",
    "            print(f\"{k}. {corr.columns[i]} and {corr.columns[j]}: {round(corr.iloc[i, j], 2)}\")\n",
    "            k += 1\n",
    "\n",
    "fig = plt.figure(figsize=(10, 10))\n",
    "ax = fig.add_subplot(111)\n",
    "cax = ax.matshow(corr)\n",
    "fig.colorbar(cax)\n",
    "ax.set_xticks(range(len(corr.columns)))\n",
    "ax.set_yticks(range(len(corr.columns)))\n",
    "ax.set_xticklabels(corr.columns, rotation=90)\n",
    "ax.set_yticklabels(corr.columns)\n",
    "plt.show()\n"
   ],
   "outputs": [
    {
     "name": "stdout",
     "output_type": "stream",
     "text": [
      "Pairs with correlation >= 0.8:\n",
      "1. 2m_temp_max and 2m_temp_mean: 0.98\n",
      "2. 2m_temp_max and 2m_temp_min: 0.93\n",
      "3. 2m_temp_max and 2m_dp_temp_max: 0.95\n",
      "4. 2m_temp_max and 2m_dp_temp_mean: 0.93\n",
      "5. 2m_temp_max and 2m_dp_temp_min: 0.9\n",
      "6. 2m_temp_max and total_et: 0.84\n",
      "7. 2m_temp_mean and 2m_temp_min: 0.97\n",
      "8. 2m_temp_mean and 2m_dp_temp_max: 0.97\n",
      "9. 2m_temp_mean and 2m_dp_temp_mean: 0.97\n",
      "10. 2m_temp_mean and 2m_dp_temp_min: 0.95\n",
      "11. 2m_temp_mean and total_et: 0.83\n",
      "12. 2m_temp_min and 2m_dp_temp_max: 0.95\n",
      "13. 2m_temp_min and 2m_dp_temp_mean: 0.97\n",
      "14. 2m_temp_min and 2m_dp_temp_min: 0.98\n",
      "15. 2m_dp_temp_max and 2m_dp_temp_mean: 0.99\n",
      "16. 2m_dp_temp_max and 2m_dp_temp_min: 0.96\n",
      "17. 2m_dp_temp_mean and 2m_dp_temp_min: 0.99\n",
      "18. surf_net_solar_rad_max and surf_net_solar_rad_mean: 0.98\n",
      "19. surf_net_solar_rad_max and total_et: 0.84\n",
      "20. surf_net_solar_rad_mean and total_et: 0.87\n",
      "21. surf_net_therm_rad_max and surf_net_therm_rad_mean: 0.93\n",
      "22. volsw_123 and volsw_4: 0.82\n"
     ]
    },
    {
     "data": {
      "text/plain": [
       "<Figure size 1000x1000 with 2 Axes>"
      ],
      "image/png": "[encoded data removed]"
     },
     "metadata": {},
     "output_type": "display_data"
    }
   ],
   "execution_count": 12
  },
  {
   "cell_type": "markdown",
   "metadata": {},
   "source": [
    "Well, it is not really surprising that the 6 temperature variables show a very high correlation as well as the 4 solar/thermal radiation attributes. Apart from that, the data attributes aren't especially high correlated. The **Forecast Albedo** shares a negative correlation with many data attributes. The target variables are highly correlated with each other, but not with other variables. This highlights the importance for a feature importance study in this context, which will be carried out at a later stage in the project.\n",
    "\n",
    "### 4. Data Preprocessing\n",
    "\n",
    "As we saw during our data exploration there are no missing values, outliers or other suspicious values in the dataset. To finish the preprocessing phase we will standardize the data, as this might be beneficial for the output of our models and split the data into a train, validation and test set.\n",
    "\n",
    "We have time dependent data of the years 1981 to 2019. We will use the last 3 years 2017-2019 for testing and 2014-2016 as the validation data."
   ]
  },
  {
   "cell_type": "code",
   "metadata": {
    "ExecuteTime": {
     "end_time": "2025-01-02T12:33:43.500049Z",
     "start_time": "2025-01-02T12:33:43.395501Z"
    }
   },
   "source": [
    "data = data.astype({col: 'float64' for col in data.select_dtypes('int64').columns})\n",
    "data.reset_index(inplace=True)"
   ],
   "outputs": [],
   "execution_count": 13
  },
  {
   "cell_type": "code",
   "metadata": {
    "ExecuteTime": {
     "end_time": "2025-01-02T12:33:43.690958Z",
     "start_time": "2025-01-02T12:33:43.535977Z"
    }
   },
   "source": [
    "test_data = data[data['YYYY'] >= 2017]\n",
    "validation_data = data[(data['YYYY'] >= 2014) & (data['YYYY'] < 2017)]\n",
    "train_data = data[data['YYYY'] < 2014]"
   ],
   "outputs": [],
   "execution_count": 14
  },
  {
   "cell_type": "code",
   "metadata": {
    "ExecuteTime": {
     "end_time": "2025-01-02T12:33:44.097298Z",
     "start_time": "2025-01-02T12:33:43.694962Z"
    }
   },
   "source": [
    "scaler = StandardScaler()\n",
    "scaler.fit(train_data.iloc[:, 5:])\n",
    "\n",
    "train_data.iloc[:, 5:] = scaler.transform(train_data.iloc[:, 5:])\n",
    "validation_data.iloc[:, 5:] = scaler.transform(validation_data.iloc[:, 5:])\n",
    "test_data.iloc[:, 5:] = scaler.transform(test_data.iloc[:, 5:])"
   ],
   "outputs": [],
   "execution_count": 15
  },
  {
   "cell_type": "code",
   "metadata": {
    "ExecuteTime": {
     "end_time": "2025-01-02T12:33:44.147053Z",
     "start_time": "2025-01-02T12:33:44.133924Z"
    }
   },
   "source": [
    "train_data.head()"
   ],
   "outputs": [
    {
     "data": {
      "text/plain": [
       "  location  YYYY  DOY   MM   DD  2m_temp_max  2m_temp_mean  2m_temp_min  \\\n",
       "0   ID_825  1981    1  1.0  1.0    -0.874208     -0.730781    -0.574451   \n",
       "1   ID_825  1981    2  1.0  2.0    -1.170327     -0.973804    -0.646350   \n",
       "2   ID_825  1981    3  1.0  3.0    -0.786469     -0.510903    -0.262887   \n",
       "3   ID_825  1981    4  1.0  4.0    -1.049686     -0.753926    -0.502551   \n",
       "4   ID_825  1981    5  1.0  5.0    -1.378706     -1.251544    -0.993863   \n",
       "\n",
       "   2m_dp_temp_max  2m_dp_temp_mean  ...       swe  surf_net_solar_rad_max  \\\n",
       "0       -0.637935        -0.663565  ... -0.256118               -1.225177   \n",
       "1       -0.764178        -0.872210  ... -0.251426               -1.168442   \n",
       "2       -0.410697        -0.221729  ... -0.238254               -1.591373   \n",
       "3       -0.713680        -0.504013  ... -0.236728               -1.446958   \n",
       "4       -1.029288        -1.068581  ... -0.233316               -1.596531   \n",
       "\n",
       "   surf_net_solar_rad_mean  surf_net_therm_rad_max  surf_net_therm_rad_mean  \\\n",
       "0                -1.218362               -0.246297                -0.459779   \n",
       "1                -1.176166               -0.209042                -0.459779   \n",
       "2                -1.387147               -1.065897                -1.673402   \n",
       "3                -1.288689               -0.358060                -0.504728   \n",
       "4                -1.359016               -0.395315                -0.594626   \n",
       "\n",
       "   surf_press  total_et      prec  volsw_123  volsw_4  \n",
       "0    0.380145 -0.456391  0.245055   0.695167  0.07279  \n",
       "1    0.411612 -0.839019  0.506381   0.513727  0.07279  \n",
       "2    0.183636 -0.946155  1.991434   0.513727  0.07279  \n",
       "3    0.179462 -0.877282  0.205406   0.695167  0.07279  \n",
       "4    0.292326 -0.984418 -0.252365   0.695167  0.07279  \n",
       "\n",
       "[5 rows x 26 columns]"
      ],
      "text/html": [
       "<div>\n",
       "<style scoped>\n",
       "    .dataframe tbody tr th:only-of-type {\n",
       "        vertical-align: middle;\n",
       "    }\n",
       "\n",
       "    .dataframe tbody tr th {\n",
       "        vertical-align: top;\n",
       "    }\n",
       "\n",
       "    .dataframe thead th {\n",
       "        text-align: right;\n",
       "    }\n",
       "</style>\n",
       "<table border=\"1\" class=\"dataframe\">\n",
       "  <thead>\n",
       "    <tr style=\"text-align: right;\">\n",
       "      <th></th>\n",
       "      <th>location</th>\n",
       "      <th>YYYY</th>\n",
       "      <th>DOY</th>\n",
       "      <th>MM</th>\n",
       "      <th>DD</th>\n",
       "      <th>2m_temp_max</th>\n",
       "      <th>2m_temp_mean</th>\n",
       "      <th>2m_temp_min</th>\n",
       "      <th>2m_dp_temp_max</th>\n",
       "      <th>2m_dp_temp_mean</th>\n",
       "      <th>...</th>\n",
       "      <th>swe</th>\n",
       "      <th>surf_net_solar_rad_max</th>\n",
       "      <th>surf_net_solar_rad_mean</th>\n",
       "      <th>surf_net_therm_rad_max</th>\n",
       "      <th>surf_net_therm_rad_mean</th>\n",
       "      <th>surf_press</th>\n",
       "      <th>total_et</th>\n",
       "      <th>prec</th>\n",
       "      <th>volsw_123</th>\n",
       "      <th>volsw_4</th>\n",
       "    </tr>\n",
       "  </thead>\n",
       "  <tbody>\n",
       "    <tr>\n",
       "      <th>0</th>\n",
       "      <td>ID_825</td>\n",
       "      <td>1981</td>\n",
       "      <td>1</td>\n",
       "      <td>1.0</td>\n",
       "      <td>1.0</td>\n",
       "      <td>-0.874208</td>\n",
       "      <td>-0.730781</td>\n",
       "      <td>-0.574451</td>\n",
       "      <td>-0.637935</td>\n",
       "      <td>-0.663565</td>\n",
       "      <td>...</td>\n",
       "      <td>-0.256118</td>\n",
       "      <td>-1.225177</td>\n",
       "      <td>-1.218362</td>\n",
       "      <td>-0.246297</td>\n",
       "      <td>-0.459779</td>\n",
       "      <td>0.380145</td>\n",
       "      <td>-0.456391</td>\n",
       "      <td>0.245055</td>\n",
       "      <td>0.695167</td>\n",
       "      <td>0.07279</td>\n",
       "    </tr>\n",
       "    <tr>\n",
       "      <th>1</th>\n",
       "      <td>ID_825</td>\n",
       "      <td>1981</td>\n",
       "      <td>2</td>\n",
       "      <td>1.0</td>\n",
       "      <td>2.0</td>\n",
       "      <td>-1.170327</td>\n",
       "      <td>-0.973804</td>\n",
       "      <td>-0.646350</td>\n",
       "      <td>-0.764178</td>\n",
       "      <td>-0.872210</td>\n",
       "      <td>...</td>\n",
       "      <td>-0.251426</td>\n",
       "      <td>-1.168442</td>\n",
       "      <td>-1.176166</td>\n",
       "      <td>-0.209042</td>\n",
       "      <td>-0.459779</td>\n",
       "      <td>0.411612</td>\n",
       "      <td>-0.839019</td>\n",
       "      <td>0.506381</td>\n",
       "      <td>0.513727</td>\n",
       "      <td>0.07279</td>\n",
       "    </tr>\n",
       "    <tr>\n",
       "      <th>2</th>\n",
       "      <td>ID_825</td>\n",
       "      <td>1981</td>\n",
       "      <td>3</td>\n",
       "      <td>1.0</td>\n",
       "      <td>3.0</td>\n",
       "      <td>-0.786469</td>\n",
       "      <td>-0.510903</td>\n",
       "      <td>-0.262887</td>\n",
       "      <td>-0.410697</td>\n",
       "      <td>-0.221729</td>\n",
       "      <td>...</td>\n",
       "      <td>-0.238254</td>\n",
       "      <td>-1.591373</td>\n",
       "      <td>-1.387147</td>\n",
       "      <td>-1.065897</td>\n",
       "      <td>-1.673402</td>\n",
       "      <td>0.183636</td>\n",
       "      <td>-0.946155</td>\n",
       "      <td>1.991434</td>\n",
       "      <td>0.513727</td>\n",
       "      <td>0.07279</td>\n",
       "    </tr>\n",
       "    <tr>\n",
       "      <th>3</th>\n",
       "      <td>ID_825</td>\n",
       "      <td>1981</td>\n",
       "      <td>4</td>\n",
       "      <td>1.0</td>\n",
       "      <td>4.0</td>\n",
       "      <td>-1.049686</td>\n",
       "      <td>-0.753926</td>\n",
       "      <td>-0.502551</td>\n",
       "      <td>-0.713680</td>\n",
       "      <td>-0.504013</td>\n",
       "      <td>...</td>\n",
       "      <td>-0.236728</td>\n",
       "      <td>-1.446958</td>\n",
       "      <td>-1.288689</td>\n",
       "      <td>-0.358060</td>\n",
       "      <td>-0.504728</td>\n",
       "      <td>0.179462</td>\n",
       "      <td>-0.877282</td>\n",
       "      <td>0.205406</td>\n",
       "      <td>0.695167</td>\n",
       "      <td>0.07279</td>\n",
       "    </tr>\n",
       "    <tr>\n",
       "      <th>4</th>\n",
       "      <td>ID_825</td>\n",
       "      <td>1981</td>\n",
       "      <td>5</td>\n",
       "      <td>1.0</td>\n",
       "      <td>5.0</td>\n",
       "      <td>-1.378706</td>\n",
       "      <td>-1.251544</td>\n",
       "      <td>-0.993863</td>\n",
       "      <td>-1.029288</td>\n",
       "      <td>-1.068581</td>\n",
       "      <td>...</td>\n",
       "      <td>-0.233316</td>\n",
       "      <td>-1.596531</td>\n",
       "      <td>-1.359016</td>\n",
       "      <td>-0.395315</td>\n",
       "      <td>-0.594626</td>\n",
       "      <td>0.292326</td>\n",
       "      <td>-0.984418</td>\n",
       "      <td>-0.252365</td>\n",
       "      <td>0.695167</td>\n",
       "      <td>0.07279</td>\n",
       "    </tr>\n",
       "  </tbody>\n",
       "</table>\n",
       "<p>5 rows × 26 columns</p>\n",
       "</div>"
      ]
     },
     "execution_count": 16,
     "metadata": {},
     "output_type": "execute_result"
    }
   ],
   "execution_count": 16
  },
  {
   "cell_type": "markdown",
   "metadata": {},
   "source": [
    "### 5. Discussing Data Quality & Engineering\n",
    "\n",
    "Understanding data quality and performing data engineering are probably the most important steps before model training. High-quality data ensures that the models are trained on accurate and relevant information, leading to better performance and more reliable predictions. Quality is more important than quantity in most cases. \n",
    "When it comes to data quality we want to ensure there are no missing or invalid values, since they could lead to biased models or incorrect predictions. The data should be consistent and accurately represent the real-world scenario that it is intended to model, as it is the case for our data here.\n",
    "With data engineering we want to help the model to stay on track. Crucial steps are for example outlier removal or data normalization/standardization as performed above. This is especially important for algorithms that are sensitive to feature scales to assure that all features contribute equally to the model training process. We also split the data into training, validation and test sets to ensure that the model is evaluated on unseen data to provide a realisitc estimate of its performance.\n",
    "By addressing these aspects of data quality and engineering, we can ensure that the models are trained on reliable and meaningful data, leading to better generalization and more accurate predictions.\n",
    "\n",
    "### 6. Save the data"
   ]
  },
  {
   "cell_type": "code",
   "metadata": {
    "ExecuteTime": {
     "end_time": "2025-01-02T12:34:15.560450Z",
     "start_time": "2025-01-02T12:33:44.280556Z"
    }
   },
   "source": [
    "os.makedirs(\"../data/processed\", exist_ok=True)\n",
    "\n",
    "train_data.to_csv(\"../data/processed/train_data.csv\", index=False)\n",
    "validation_data.to_csv(\"../data/processed/validation_data.csv\", index=False)\n",
    "test_data.to_csv(\"../data/processed/test_data.csv\", index=False)"
   ],
   "outputs": [],
   "execution_count": 17
  },
  {
   "cell_type": "code",
   "metadata": {
    "ExecuteTime": {
     "end_time": "2025-01-02T12:34:15.603947Z",
     "start_time": "2025-01-02T12:34:15.602191Z"
    }
   },
   "source": [],
   "outputs": [],
   "execution_count": null
  }
 ],
 "metadata": {
  "kernelspec": {
   "display_name": "amitecc2",
   "language": "python",
   "name": "python3"
  },
  "language_info": {
   "codemirror_mode": {
    "name": "ipython",
    "version": 3
   },
   "file_extension": ".py",
   "mimetype": "text/x-python",
   "name": "python",
   "nbconvert_exporter": "python",
   "pygments_lexer": "ipython3",
   "version": "3.11.11"
  }
 },
 "nbformat": 4,
 "nbformat_minor": 2
}
